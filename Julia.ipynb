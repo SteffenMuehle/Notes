{
 "cells": [
  {
   "cell_type": "markdown",
   "metadata": {},
   "source": [
    "# Julia\n",
    "---\n",
    "#### Table of Contents:\n",
    "\n",
    "[Resources](#Resources)\\\n",
    "[Installation](#Installation)\\\n",
    "[Data Types](#Data-Types)\\\n",
    "[Types](#Types)\\\n",
    "[Macros](#Macros)\\\n",
    "[Meta](#Meta)\\\n",
    "[Benchmarking](#Benchmarkings)\\\n",
    "[Composite Types](#Composite-Types)\\\n",
    "[Dictionaries](#Dictionaries)\\\n",
    "[To do](#To-do)"
   ]
  },
  {
   "cell_type": "markdown",
   "metadata": {},
   "source": [
    "# Resources\n",
    "https://docs.julialang.org/en/v1/manual/getting-started/ (official documentation)\\\n",
    "https://juliahub.com/ui/Home \\\n",
    "https://juliaacademy.com/courses \\\n",
    "https://www.youtube.com/channel/UCGnK5pYXk6XYGdecreUA1jA/videos"
   ]
  },
  {
   "cell_type": "markdown",
   "metadata": {},
   "source": [
    "# Installation\n",
    "- Anaconda: https://linuxize.com/post/how-to-install-anaconda-on-ubuntu-20-04/\n",
    "- Julia: \n",
    "\n",
    "first in terminal\n",
    "> sudo apt install julia\n",
    "\n",
    "second in Julia\n",
    "> using Pkg\\\n",
    "  Pkg.add(IJulia\")\\\n",
    "  using IJulia\\\n",
    "  jupyterlab()"
   ]
  },
  {
   "cell_type": "markdown",
   "metadata": {},
   "source": [
    "# Plots\n",
    "> using Plots\\\n",
    "plotlyjs()\\\n",
    "theme(:juno)\\\n",
    "plot(his[1],his[2],xlim=[0,6],marker=:hex,xlab=\"distance / km\",ylab=\"frequency\",title=\"taxi data from NYC, year 2019\")\\\n",
    "savefig(\"traveldistancesHistogramNYC2019.html\")"
   ]
  },
  {
   "cell_type": "markdown",
   "metadata": {},
   "source": [
    "# Data Types"
   ]
  },
  {
   "cell_type": "markdown",
   "metadata": {},
   "source": [
    "### Integers\n",
    "\n",
    "### Floats\n",
    "\n",
    "### Arrays\n",
    "\n",
    "### Tupels\n",
    "\n",
    "### Expressions\n",
    "\n",
    "### Strings\n",
    "\n",
    "### Chars\n",
    "\n",
    "### Functions\n",
    "\n",
    "### Macros"
   ]
  },
  {
   "cell_type": "markdown",
   "metadata": {},
   "source": [
    "# Types"
   ]
  },
  {
   "cell_type": "code",
   "execution_count": 2,
   "metadata": {},
   "outputs": [
    {
     "data": {
      "text/plain": [
       "4×3 Array{Int64,2}:\n",
       " 1  1  1\n",
       " 2  2  2\n",
       " 1  1  1\n",
       " 2  2  2"
      ]
     },
     "execution_count": 2,
     "metadata": {},
     "output_type": "execute_result"
    }
   ],
   "source": [
    "a=[1;2]\n",
    "repeat(a,2,3)"
   ]
  },
  {
   "cell_type": "code",
   "execution_count": 142,
   "metadata": {},
   "outputs": [
    {
     "data": {
      "text/plain": [
       "Array{Int64,1}"
      ]
     },
     "execution_count": 142,
     "metadata": {},
     "output_type": "execute_result"
    }
   ],
   "source": [
    "typeof([1,1])"
   ]
  },
  {
   "cell_type": "code",
   "execution_count": 146,
   "metadata": {},
   "outputs": [
    {
     "data": {
      "text/plain": [
       "Union{Float16, Int8, UInt8}"
      ]
     },
     "execution_count": 146,
     "metadata": {},
     "output_type": "execute_result"
    }
   ],
   "source": [
    "Minimal=Union{Float16,Int8,UInt8}"
   ]
  },
  {
   "cell_type": "code",
   "execution_count": 147,
   "metadata": {},
   "outputs": [
    {
     "data": {
      "text/plain": [
       "true"
      ]
     },
     "execution_count": 147,
     "metadata": {},
     "output_type": "execute_result"
    }
   ],
   "source": [
    "Int8 <: Minimal"
   ]
  },
  {
   "cell_type": "code",
   "execution_count": 3,
   "metadata": {},
   "outputs": [
    {
     "data": {
      "text/plain": [
       "10-element Array{String,1}:\n",
       " #undef\n",
       " #undef\n",
       " #undef\n",
       " #undef\n",
       " #undef\n",
       " #undef\n",
       " #undef\n",
       " #undef\n",
       " #undef\n",
       " #undef"
      ]
     },
     "execution_count": 3,
     "metadata": {},
     "output_type": "execute_result"
    }
   ],
   "source": [
    "Array{String,1}(undef,10)"
   ]
  },
  {
   "cell_type": "markdown",
   "metadata": {},
   "source": [
    "# Macros"
   ]
  },
  {
   "cell_type": "markdown",
   "metadata": {},
   "source": [
    "> @simd\\\n",
    "@time\\\n",
    "@benchmark"
   ]
  },
  {
   "cell_type": "markdown",
   "metadata": {},
   "source": [
    "# Meta"
   ]
  },
  {
   "cell_type": "code",
   "execution_count": 4,
   "metadata": {},
   "outputs": [
    {
     "data": {
      "text/plain": [
       "quote\n",
       "    using Plots\n",
       "    #= In[4]:1 =#\n",
       "    plot(1:5, (1:5) .^ 2)\n",
       "end"
      ]
     },
     "execution_count": 4,
     "metadata": {},
     "output_type": "execute_result"
    }
   ],
   "source": [
    "MySym=:(using Plots; plot(1:5,(1:5).^2))"
   ]
  },
  {
   "cell_type": "code",
   "execution_count": 12,
   "metadata": {},
   "outputs": [
    {
     "data": {
      "text/plain": [
       "\"using Plots; plot(1:5,(1:5).^3)\""
      ]
     },
     "execution_count": 12,
     "metadata": {},
     "output_type": "execute_result"
    }
   ],
   "source": [
    "MyString=\"using Plots; plot(1:5,(1:5).^3)\""
   ]
  },
  {
   "cell_type": "code",
   "execution_count": 14,
   "metadata": {},
   "outputs": [
    {
     "data": {
      "image/svg+xml": [
       "<?xml version=\"1.0\" encoding=\"utf-8\"?>\n",
       "<svg xmlns=\"http://www.w3.org/2000/svg\" xmlns:xlink=\"http://www.w3.org/1999/xlink\" width=\"600\" height=\"400\" viewBox=\"0 0 2400 1600\">\n",
       "<defs>\n",
       "  <clipPath id=\"clip140\">\n",
       "    <rect x=\"0\" y=\"0\" width=\"2400\" height=\"1600\"/>\n",
       "  </clipPath>\n",
       "</defs>\n",
       "<path clip-path=\"url(#clip140)\" d=\"\n",
       "M0 1600 L2400 1600 L2400 0 L0 0  Z\n",
       "  \" fill=\"#ffffff\" fill-rule=\"evenodd\" fill-opacity=\"1\"/>\n",
       "<defs>\n",
       "  <clipPath id=\"clip141\">\n",
       "    <rect x=\"480\" y=\"0\" width=\"1681\" height=\"1600\"/>\n",
       "  </clipPath>\n",
       "</defs>\n",
       "<path clip-path=\"url(#clip140)\" d=\"\n",
       "M161.598 1486.45 L2352.76 1486.45 L2352.76 47.2441 L161.598 47.2441  Z\n",
       "  \" fill=\"#ffffff\" fill-rule=\"evenodd\" fill-opacity=\"1\"/>\n",
       "<defs>\n",
       "  <clipPath id=\"clip142\">\n",
       "    <rect x=\"161\" y=\"47\" width=\"2192\" height=\"1440\"/>\n",
       "  </clipPath>\n",
       "</defs>\n",
       "<polyline clip-path=\"url(#clip142)\" style=\"stroke:#000000; stroke-width:2; stroke-opacity:0.1; fill:none\" points=\"\n",
       "  223.612,1486.45 223.612,47.2441 \n",
       "  \"/>\n",
       "<polyline clip-path=\"url(#clip142)\" style=\"stroke:#000000; stroke-width:2; stroke-opacity:0.1; fill:none\" points=\"\n",
       "  740.395,1486.45 740.395,47.2441 \n",
       "  \"/>\n",
       "<polyline clip-path=\"url(#clip142)\" style=\"stroke:#000000; stroke-width:2; stroke-opacity:0.1; fill:none\" points=\"\n",
       "  1257.18,1486.45 1257.18,47.2441 \n",
       "  \"/>\n",
       "<polyline clip-path=\"url(#clip142)\" style=\"stroke:#000000; stroke-width:2; stroke-opacity:0.1; fill:none\" points=\"\n",
       "  1773.96,1486.45 1773.96,47.2441 \n",
       "  \"/>\n",
       "<polyline clip-path=\"url(#clip142)\" style=\"stroke:#000000; stroke-width:2; stroke-opacity:0.1; fill:none\" points=\"\n",
       "  2290.74,1486.45 2290.74,47.2441 \n",
       "  \"/>\n",
       "<polyline clip-path=\"url(#clip140)\" style=\"stroke:#000000; stroke-width:4; stroke-opacity:1; fill:none\" points=\"\n",
       "  161.598,1486.45 2352.76,1486.45 \n",
       "  \"/>\n",
       "<polyline clip-path=\"url(#clip140)\" style=\"stroke:#000000; stroke-width:4; stroke-opacity:1; fill:none\" points=\"\n",
       "  223.612,1486.45 223.612,1469.18 \n",
       "  \"/>\n",
       "<polyline clip-path=\"url(#clip140)\" style=\"stroke:#000000; stroke-width:4; stroke-opacity:1; fill:none\" points=\"\n",
       "  740.395,1486.45 740.395,1469.18 \n",
       "  \"/>\n",
       "<polyline clip-path=\"url(#clip140)\" style=\"stroke:#000000; stroke-width:4; stroke-opacity:1; fill:none\" points=\"\n",
       "  1257.18,1486.45 1257.18,1469.18 \n",
       "  \"/>\n",
       "<polyline clip-path=\"url(#clip140)\" style=\"stroke:#000000; stroke-width:4; stroke-opacity:1; fill:none\" points=\"\n",
       "  1773.96,1486.45 1773.96,1469.18 \n",
       "  \"/>\n",
       "<polyline clip-path=\"url(#clip140)\" style=\"stroke:#000000; stroke-width:4; stroke-opacity:1; fill:none\" points=\"\n",
       "  2290.74,1486.45 2290.74,1469.18 \n",
       "  \"/>\n",
       "<path clip-path=\"url(#clip140)\" d=\"M 0 0 M213.994 1543.18 L221.633 1543.18 L221.633 1516.82 L213.323 1518.49 L213.323 1514.23 L221.587 1512.56 L226.263 1512.56 L226.263 1543.18 L233.901 1543.18 L233.901 1547.12 L213.994 1547.12 L213.994 1543.18 Z\" fill=\"#000000\" fill-rule=\"evenodd\" fill-opacity=\"1\" /><path clip-path=\"url(#clip140)\" d=\"M 0 0 M735.047 1543.18 L751.367 1543.18 L751.367 1547.12 L729.422 1547.12 L729.422 1543.18 Q732.084 1540.43 736.668 1535.8 Q741.274 1531.15 742.455 1529.81 Q744.7 1527.28 745.58 1525.55 Q746.483 1523.79 746.483 1522.1 Q746.483 1519.34 744.538 1517.61 Q742.617 1515.87 739.515 1515.87 Q737.316 1515.87 734.862 1516.63 Q732.432 1517.4 729.654 1518.95 L729.654 1514.23 Q732.478 1513.09 734.932 1512.51 Q737.385 1511.93 739.422 1511.93 Q744.793 1511.93 747.987 1514.62 Q751.182 1517.31 751.182 1521.8 Q751.182 1523.93 750.371 1525.85 Q749.584 1527.74 747.478 1530.34 Q746.899 1531.01 743.797 1534.23 Q740.696 1537.42 735.047 1543.18 Z\" fill=\"#000000\" fill-rule=\"evenodd\" fill-opacity=\"1\" /><path clip-path=\"url(#clip140)\" d=\"M 0 0 M1261.42 1528.49 Q1264.78 1529.2 1266.66 1531.47 Q1268.55 1533.74 1268.55 1537.07 Q1268.55 1542.19 1265.04 1544.99 Q1261.52 1547.79 1255.04 1547.79 Q1252.86 1547.79 1250.55 1547.35 Q1248.25 1546.93 1245.8 1546.08 L1245.8 1541.56 Q1247.74 1542.7 1250.06 1543.28 Q1252.37 1543.86 1254.9 1543.86 Q1259.3 1543.86 1261.59 1542.12 Q1263.9 1540.38 1263.9 1537.07 Q1263.9 1534.02 1261.75 1532.31 Q1259.62 1530.57 1255.8 1530.57 L1251.77 1530.57 L1251.77 1526.73 L1255.98 1526.73 Q1259.43 1526.73 1261.26 1525.36 Q1263.09 1523.97 1263.09 1521.38 Q1263.09 1518.72 1261.19 1517.31 Q1259.32 1515.87 1255.8 1515.87 Q1253.88 1515.87 1251.68 1516.29 Q1249.48 1516.7 1246.84 1517.58 L1246.84 1513.42 Q1249.5 1512.68 1251.82 1512.31 Q1254.16 1511.93 1256.22 1511.93 Q1261.54 1511.93 1264.64 1514.37 Q1267.74 1516.77 1267.74 1520.89 Q1267.74 1523.76 1266.1 1525.75 Q1264.46 1527.72 1261.42 1528.49 Z\" fill=\"#000000\" fill-rule=\"evenodd\" fill-opacity=\"1\" /><path clip-path=\"url(#clip140)\" d=\"M 0 0 M1776.97 1516.63 L1765.16 1535.08 L1776.97 1535.08 L1776.97 1516.63 M1775.74 1512.56 L1781.62 1512.56 L1781.62 1535.08 L1786.55 1535.08 L1786.55 1538.97 L1781.62 1538.97 L1781.62 1547.12 L1776.97 1547.12 L1776.97 1538.97 L1761.37 1538.97 L1761.37 1534.46 L1775.74 1512.56 Z\" fill=\"#000000\" fill-rule=\"evenodd\" fill-opacity=\"1\" /><path clip-path=\"url(#clip140)\" d=\"M 0 0 M2281.02 1512.56 L2299.38 1512.56 L2299.38 1516.5 L2285.3 1516.5 L2285.3 1524.97 Q2286.32 1524.62 2287.34 1524.46 Q2288.36 1524.27 2289.38 1524.27 Q2295.16 1524.27 2298.54 1527.44 Q2301.92 1530.62 2301.92 1536.03 Q2301.92 1541.61 2298.45 1544.71 Q2294.98 1547.79 2288.66 1547.79 Q2286.48 1547.79 2284.21 1547.42 Q2281.97 1547.05 2279.56 1546.31 L2279.56 1541.61 Q2281.64 1542.74 2283.87 1543.3 Q2286.09 1543.86 2288.57 1543.86 Q2292.57 1543.86 2294.91 1541.75 Q2297.25 1539.64 2297.25 1536.03 Q2297.25 1532.42 2294.91 1530.31 Q2292.57 1528.21 2288.57 1528.21 Q2286.69 1528.21 2284.82 1528.62 Q2282.96 1529.04 2281.02 1529.92 L2281.02 1512.56 Z\" fill=\"#000000\" fill-rule=\"evenodd\" fill-opacity=\"1\" /><polyline clip-path=\"url(#clip142)\" style=\"stroke:#000000; stroke-width:2; stroke-opacity:0.1; fill:none\" points=\"\n",
       "  161.598,1456.67 2352.76,1456.67 \n",
       "  \"/>\n",
       "<polyline clip-path=\"url(#clip142)\" style=\"stroke:#000000; stroke-width:2; stroke-opacity:0.1; fill:none\" points=\"\n",
       "  161.598,1237.67 2352.76,1237.67 \n",
       "  \"/>\n",
       "<polyline clip-path=\"url(#clip142)\" style=\"stroke:#000000; stroke-width:2; stroke-opacity:0.1; fill:none\" points=\"\n",
       "  161.598,1018.68 2352.76,1018.68 \n",
       "  \"/>\n",
       "<polyline clip-path=\"url(#clip142)\" style=\"stroke:#000000; stroke-width:2; stroke-opacity:0.1; fill:none\" points=\"\n",
       "  161.598,799.695 2352.76,799.695 \n",
       "  \"/>\n",
       "<polyline clip-path=\"url(#clip142)\" style=\"stroke:#000000; stroke-width:2; stroke-opacity:0.1; fill:none\" points=\"\n",
       "  161.598,580.704 2352.76,580.704 \n",
       "  \"/>\n",
       "<polyline clip-path=\"url(#clip142)\" style=\"stroke:#000000; stroke-width:2; stroke-opacity:0.1; fill:none\" points=\"\n",
       "  161.598,361.714 2352.76,361.714 \n",
       "  \"/>\n",
       "<polyline clip-path=\"url(#clip142)\" style=\"stroke:#000000; stroke-width:2; stroke-opacity:0.1; fill:none\" points=\"\n",
       "  161.598,142.724 2352.76,142.724 \n",
       "  \"/>\n",
       "<polyline clip-path=\"url(#clip140)\" style=\"stroke:#000000; stroke-width:4; stroke-opacity:1; fill:none\" points=\"\n",
       "  161.598,1486.45 161.598,47.2441 \n",
       "  \"/>\n",
       "<polyline clip-path=\"url(#clip140)\" style=\"stroke:#000000; stroke-width:4; stroke-opacity:1; fill:none\" points=\"\n",
       "  161.598,1456.67 187.892,1456.67 \n",
       "  \"/>\n",
       "<polyline clip-path=\"url(#clip140)\" style=\"stroke:#000000; stroke-width:4; stroke-opacity:1; fill:none\" points=\"\n",
       "  161.598,1237.67 187.892,1237.67 \n",
       "  \"/>\n",
       "<polyline clip-path=\"url(#clip140)\" style=\"stroke:#000000; stroke-width:4; stroke-opacity:1; fill:none\" points=\"\n",
       "  161.598,1018.68 187.892,1018.68 \n",
       "  \"/>\n",
       "<polyline clip-path=\"url(#clip140)\" style=\"stroke:#000000; stroke-width:4; stroke-opacity:1; fill:none\" points=\"\n",
       "  161.598,799.695 187.892,799.695 \n",
       "  \"/>\n",
       "<polyline clip-path=\"url(#clip140)\" style=\"stroke:#000000; stroke-width:4; stroke-opacity:1; fill:none\" points=\"\n",
       "  161.598,580.704 187.892,580.704 \n",
       "  \"/>\n",
       "<polyline clip-path=\"url(#clip140)\" style=\"stroke:#000000; stroke-width:4; stroke-opacity:1; fill:none\" points=\"\n",
       "  161.598,361.714 187.892,361.714 \n",
       "  \"/>\n",
       "<polyline clip-path=\"url(#clip140)\" style=\"stroke:#000000; stroke-width:4; stroke-opacity:1; fill:none\" points=\"\n",
       "  161.598,142.724 187.892,142.724 \n",
       "  \"/>\n",
       "<path clip-path=\"url(#clip140)\" d=\"M 0 0 M113.654 1442.46 Q110.043 1442.46 108.214 1446.03 Q106.408 1449.57 106.408 1456.7 Q106.408 1463.81 108.214 1467.37 Q110.043 1470.91 113.654 1470.91 Q117.288 1470.91 119.094 1467.37 Q120.922 1463.81 120.922 1456.7 Q120.922 1449.57 119.094 1446.03 Q117.288 1442.46 113.654 1442.46 M113.654 1438.76 Q119.464 1438.76 122.52 1443.37 Q125.598 1447.95 125.598 1456.7 Q125.598 1465.43 122.52 1470.03 Q119.464 1474.62 113.654 1474.62 Q107.844 1474.62 104.765 1470.03 Q101.709 1465.43 101.709 1456.7 Q101.709 1447.95 104.765 1443.37 Q107.844 1438.76 113.654 1438.76 Z\" fill=\"#000000\" fill-rule=\"evenodd\" fill-opacity=\"1\" /><path clip-path=\"url(#clip140)\" d=\"M 0 0 M82.2651 1251.02 L98.5845 1251.02 L98.5845 1254.95 L76.6401 1254.95 L76.6401 1251.02 Q79.3022 1248.27 83.8855 1243.64 Q88.4919 1238.98 89.6725 1237.64 Q91.9178 1235.12 92.7975 1233.38 Q93.7002 1231.62 93.7002 1229.93 Q93.7002 1227.18 91.7558 1225.44 Q89.8345 1223.71 86.7327 1223.71 Q84.5336 1223.71 82.0799 1224.47 Q79.6494 1225.23 76.8716 1226.78 L76.8716 1222.06 Q79.6957 1220.93 82.1494 1220.35 Q84.6031 1219.77 86.6401 1219.77 Q92.0104 1219.77 95.2049 1222.46 Q98.3993 1225.14 98.3993 1229.63 Q98.3993 1231.76 97.5891 1233.68 Q96.8021 1235.58 94.6956 1238.17 Q94.1169 1238.84 91.0151 1242.06 Q87.9132 1245.26 82.2651 1251.02 Z\" fill=\"#000000\" fill-rule=\"evenodd\" fill-opacity=\"1\" /><path clip-path=\"url(#clip140)\" d=\"M 0 0 M113.654 1223.47 Q110.043 1223.47 108.214 1227.04 Q106.408 1230.58 106.408 1237.71 Q106.408 1244.82 108.214 1248.38 Q110.043 1251.92 113.654 1251.92 Q117.288 1251.92 119.094 1248.38 Q120.922 1244.82 120.922 1237.71 Q120.922 1230.58 119.094 1227.04 Q117.288 1223.47 113.654 1223.47 M113.654 1219.77 Q119.464 1219.77 122.52 1224.38 Q125.598 1228.96 125.598 1237.71 Q125.598 1246.44 122.52 1251.04 Q119.464 1255.63 113.654 1255.63 Q107.844 1255.63 104.765 1251.04 Q101.709 1246.44 101.709 1237.71 Q101.709 1228.96 104.765 1224.38 Q107.844 1219.77 113.654 1219.77 Z\" fill=\"#000000\" fill-rule=\"evenodd\" fill-opacity=\"1\" /><path clip-path=\"url(#clip140)\" d=\"M 0 0 M89.0012 1005.48 L77.1957 1023.93 L89.0012 1023.93 L89.0012 1005.48 M87.7743 1001.4 L93.6539 1001.4 L93.6539 1023.93 L98.5845 1023.93 L98.5845 1027.82 L93.6539 1027.82 L93.6539 1035.96 L89.0012 1035.96 L89.0012 1027.82 L73.3994 1027.82 L73.3994 1023.3 L87.7743 1001.4 Z\" fill=\"#000000\" fill-rule=\"evenodd\" fill-opacity=\"1\" /><path clip-path=\"url(#clip140)\" d=\"M 0 0 M113.654 1004.48 Q110.043 1004.48 108.214 1008.05 Q106.408 1011.59 106.408 1018.72 Q106.408 1025.83 108.214 1029.39 Q110.043 1032.93 113.654 1032.93 Q117.288 1032.93 119.094 1029.39 Q120.922 1025.83 120.922 1018.72 Q120.922 1011.59 119.094 1008.05 Q117.288 1004.48 113.654 1004.48 M113.654 1000.78 Q119.464 1000.78 122.52 1005.39 Q125.598 1009.97 125.598 1018.72 Q125.598 1027.45 122.52 1032.05 Q119.464 1036.64 113.654 1036.64 Q107.844 1036.64 104.765 1032.05 Q101.709 1027.45 101.709 1018.72 Q101.709 1009.97 104.765 1005.39 Q107.844 1000.78 113.654 1000.78 Z\" fill=\"#000000\" fill-rule=\"evenodd\" fill-opacity=\"1\" /><path clip-path=\"url(#clip140)\" d=\"M 0 0 M87.0567 797.831 Q83.9086 797.831 82.0568 799.984 Q80.2281 802.137 80.2281 805.887 Q80.2281 809.613 82.0568 811.789 Q83.9086 813.942 87.0567 813.942 Q90.2049 813.942 92.0336 811.789 Q93.8854 809.613 93.8854 805.887 Q93.8854 802.137 92.0336 799.984 Q90.2049 797.831 87.0567 797.831 M96.3391 783.178 L96.3391 787.438 Q94.5799 786.604 92.7743 786.164 Q90.9919 785.725 89.2327 785.725 Q84.6031 785.725 82.1494 788.85 Q79.7188 791.975 79.3716 798.294 Q80.7373 796.28 82.7975 795.215 Q84.8577 794.127 87.3345 794.127 Q92.5428 794.127 95.5521 797.299 Q98.5845 800.447 98.5845 805.887 Q98.5845 811.211 95.4363 814.428 Q92.2882 817.646 87.0567 817.646 Q81.0614 817.646 77.8901 813.063 Q74.7189 808.456 74.7189 799.729 Q74.7189 791.535 78.6077 786.674 Q82.4966 781.79 89.0475 781.79 Q90.8067 781.79 92.5891 782.137 Q94.3947 782.484 96.3391 783.178 Z\" fill=\"#000000\" fill-rule=\"evenodd\" fill-opacity=\"1\" /><path clip-path=\"url(#clip140)\" d=\"M 0 0 M113.654 785.493 Q110.043 785.493 108.214 789.058 Q106.408 792.6 106.408 799.729 Q106.408 806.836 108.214 810.4 Q110.043 813.942 113.654 813.942 Q117.288 813.942 119.094 810.4 Q120.922 806.836 120.922 799.729 Q120.922 792.6 119.094 789.058 Q117.288 785.493 113.654 785.493 M113.654 781.79 Q119.464 781.79 122.52 786.396 Q125.598 790.979 125.598 799.729 Q125.598 808.456 122.52 813.063 Q119.464 817.646 113.654 817.646 Q107.844 817.646 104.765 813.063 Q101.709 808.456 101.709 799.729 Q101.709 790.979 104.765 786.396 Q107.844 781.79 113.654 781.79 Z\" fill=\"#000000\" fill-rule=\"evenodd\" fill-opacity=\"1\" /><path clip-path=\"url(#clip140)\" d=\"M 0 0 M86.7327 581.572 Q83.3994 581.572 81.4781 583.355 Q79.5799 585.137 79.5799 588.262 Q79.5799 591.387 81.4781 593.17 Q83.3994 594.952 86.7327 594.952 Q90.066 594.952 91.9873 593.17 Q93.9086 591.364 93.9086 588.262 Q93.9086 585.137 91.9873 583.355 Q90.0891 581.572 86.7327 581.572 M82.0568 579.582 Q79.0475 578.841 77.3577 576.781 Q75.6911 574.721 75.6911 571.758 Q75.6911 567.614 78.6309 565.207 Q81.5938 562.799 86.7327 562.799 Q91.8947 562.799 94.8345 565.207 Q97.7743 567.614 97.7743 571.758 Q97.7743 574.721 96.0845 576.781 Q94.4178 578.841 91.4317 579.582 Q94.8113 580.369 96.6863 582.66 Q98.5845 584.952 98.5845 588.262 Q98.5845 593.285 95.5058 595.97 Q92.4502 598.656 86.7327 598.656 Q81.0151 598.656 77.9364 595.97 Q74.8809 593.285 74.8809 588.262 Q74.8809 584.952 76.779 582.66 Q78.6772 580.369 82.0568 579.582 M80.3438 572.197 Q80.3438 574.883 82.0105 576.387 Q83.7003 577.892 86.7327 577.892 Q89.7419 577.892 91.4317 576.387 Q93.1447 574.883 93.1447 572.197 Q93.1447 569.512 91.4317 568.008 Q89.7419 566.503 86.7327 566.503 Q83.7003 566.503 82.0105 568.008 Q80.3438 569.512 80.3438 572.197 Z\" fill=\"#000000\" fill-rule=\"evenodd\" fill-opacity=\"1\" /><path clip-path=\"url(#clip140)\" d=\"M 0 0 M113.654 566.503 Q110.043 566.503 108.214 570.068 Q106.408 573.609 106.408 580.739 Q106.408 587.845 108.214 591.41 Q110.043 594.952 113.654 594.952 Q117.288 594.952 119.094 591.41 Q120.922 587.845 120.922 580.739 Q120.922 573.609 119.094 570.068 Q117.288 566.503 113.654 566.503 M113.654 562.799 Q119.464 562.799 122.52 567.406 Q125.598 571.989 125.598 580.739 Q125.598 589.466 122.52 594.072 Q119.464 598.656 113.654 598.656 Q107.844 598.656 104.765 594.072 Q101.709 589.466 101.709 580.739 Q101.709 571.989 104.765 567.406 Q107.844 562.799 113.654 562.799 Z\" fill=\"#000000\" fill-rule=\"evenodd\" fill-opacity=\"1\" /><path clip-path=\"url(#clip140)\" d=\"M 0 0 M51.6634 375.059 L59.3023 375.059 L59.3023 348.693 L50.9921 350.36 L50.9921 346.101 L59.256 344.434 L63.9319 344.434 L63.9319 375.059 L71.5707 375.059 L71.5707 378.994 L51.6634 378.994 L51.6634 375.059 Z\" fill=\"#000000\" fill-rule=\"evenodd\" fill-opacity=\"1\" /><path clip-path=\"url(#clip140)\" d=\"M 0 0 M86.6401 347.513 Q83.029 347.513 81.2003 351.078 Q79.3948 354.619 79.3948 361.749 Q79.3948 368.855 81.2003 372.42 Q83.029 375.962 86.6401 375.962 Q90.2743 375.962 92.0799 372.42 Q93.9086 368.855 93.9086 361.749 Q93.9086 354.619 92.0799 351.078 Q90.2743 347.513 86.6401 347.513 M86.6401 343.809 Q92.4502 343.809 95.5058 348.416 Q98.5845 352.999 98.5845 361.749 Q98.5845 370.476 95.5058 375.082 Q92.4502 379.665 86.6401 379.665 Q80.8299 379.665 77.7512 375.082 Q74.6957 370.476 74.6957 361.749 Q74.6957 352.999 77.7512 348.416 Q80.8299 343.809 86.6401 343.809 Z\" fill=\"#000000\" fill-rule=\"evenodd\" fill-opacity=\"1\" /><path clip-path=\"url(#clip140)\" d=\"M 0 0 M113.654 347.513 Q110.043 347.513 108.214 351.078 Q106.408 354.619 106.408 361.749 Q106.408 368.855 108.214 372.42 Q110.043 375.962 113.654 375.962 Q117.288 375.962 119.094 372.42 Q120.922 368.855 120.922 361.749 Q120.922 354.619 119.094 351.078 Q117.288 347.513 113.654 347.513 M113.654 343.809 Q119.464 343.809 122.52 348.416 Q125.598 352.999 125.598 361.749 Q125.598 370.476 122.52 375.082 Q119.464 379.665 113.654 379.665 Q107.844 379.665 104.765 375.082 Q101.709 370.476 101.709 361.749 Q101.709 352.999 104.765 348.416 Q107.844 343.809 113.654 343.809 Z\" fill=\"#000000\" fill-rule=\"evenodd\" fill-opacity=\"1\" /><path clip-path=\"url(#clip140)\" d=\"M 0 0 M53.2606 156.069 L60.8995 156.069 L60.8995 129.703 L52.5893 131.37 L52.5893 127.11 L60.8532 125.444 L65.5291 125.444 L65.5291 156.069 L73.1679 156.069 L73.1679 160.004 L53.2606 160.004 L53.2606 156.069 Z\" fill=\"#000000\" fill-rule=\"evenodd\" fill-opacity=\"1\" /><path clip-path=\"url(#clip140)\" d=\"M 0 0 M82.2651 156.069 L98.5845 156.069 L98.5845 160.004 L76.6401 160.004 L76.6401 156.069 Q79.3022 153.314 83.8855 148.684 Q88.4919 144.032 89.6725 142.689 Q91.9178 140.166 92.7975 138.43 Q93.7002 136.671 93.7002 134.981 Q93.7002 132.226 91.7558 130.49 Q89.8345 128.754 86.7327 128.754 Q84.5336 128.754 82.0799 129.518 Q79.6494 130.282 76.8716 131.833 L76.8716 127.11 Q79.6957 125.976 82.1494 125.398 Q84.6031 124.819 86.6401 124.819 Q92.0104 124.819 95.2049 127.504 Q98.3993 130.189 98.3993 134.68 Q98.3993 136.81 97.5891 138.731 Q96.8021 140.629 94.6956 143.222 Q94.1169 143.893 91.0151 147.11 Q87.9132 150.305 82.2651 156.069 Z\" fill=\"#000000\" fill-rule=\"evenodd\" fill-opacity=\"1\" /><path clip-path=\"url(#clip140)\" d=\"M 0 0 M113.654 128.523 Q110.043 128.523 108.214 132.087 Q106.408 135.629 106.408 142.759 Q106.408 149.865 108.214 153.43 Q110.043 156.971 113.654 156.971 Q117.288 156.971 119.094 153.43 Q120.922 149.865 120.922 142.759 Q120.922 135.629 119.094 132.087 Q117.288 128.523 113.654 128.523 M113.654 124.819 Q119.464 124.819 122.52 129.425 Q125.598 134.009 125.598 142.759 Q125.598 151.485 122.52 156.092 Q119.464 160.675 113.654 160.675 Q107.844 160.675 104.765 156.092 Q101.709 151.485 101.709 142.759 Q101.709 134.009 104.765 129.425 Q107.844 124.819 113.654 124.819 Z\" fill=\"#000000\" fill-rule=\"evenodd\" fill-opacity=\"1\" /><polyline clip-path=\"url(#clip142)\" style=\"stroke:#009af9; stroke-width:4; stroke-opacity:1; fill:none\" points=\"\n",
       "  223.612,1445.72 740.395,1369.07 1257.18,1161.03 1773.96,755.896 2290.74,87.9763 \n",
       "  \"/>\n",
       "<path clip-path=\"url(#clip140)\" d=\"\n",
       "M1985.24 216.178 L2279.72 216.178 L2279.72 95.2176 L1985.24 95.2176  Z\n",
       "  \" fill=\"#ffffff\" fill-rule=\"evenodd\" fill-opacity=\"1\"/>\n",
       "<polyline clip-path=\"url(#clip140)\" style=\"stroke:#000000; stroke-width:4; stroke-opacity:1; fill:none\" points=\"\n",
       "  1985.24,216.178 2279.72,216.178 2279.72,95.2176 1985.24,95.2176 1985.24,216.178 \n",
       "  \"/>\n",
       "<polyline clip-path=\"url(#clip140)\" style=\"stroke:#009af9; stroke-width:4; stroke-opacity:1; fill:none\" points=\"\n",
       "  2009.58,155.698 2155.66,155.698 \n",
       "  \"/>\n",
       "<path clip-path=\"url(#clip140)\" d=\"M 0 0 M2193.85 175.385 Q2192.04 180.015 2190.33 181.427 Q2188.62 182.839 2185.75 182.839 L2182.34 182.839 L2182.34 179.274 L2184.84 179.274 Q2186.6 179.274 2187.58 178.44 Q2188.55 177.607 2189.73 174.505 L2190.49 172.561 L2180.01 147.052 L2184.52 147.052 L2192.62 167.329 L2200.72 147.052 L2205.24 147.052 L2193.85 175.385 Z\" fill=\"#000000\" fill-rule=\"evenodd\" fill-opacity=\"1\" /><path clip-path=\"url(#clip140)\" d=\"M 0 0 M2211.12 169.042 L2218.76 169.042 L2218.76 142.677 L2210.45 144.343 L2210.45 140.084 L2218.71 138.418 L2223.39 138.418 L2223.39 169.042 L2231.02 169.042 L2231.02 172.978 L2211.12 172.978 L2211.12 169.042 Z\" fill=\"#000000\" fill-rule=\"evenodd\" fill-opacity=\"1\" /></svg>\n"
      ]
     },
     "execution_count": 14,
     "metadata": {},
     "output_type": "execute_result"
    }
   ],
   "source": [
    "eval(Meta.parse(MyString))"
   ]
  },
  {
   "cell_type": "code",
   "execution_count": 5,
   "metadata": {},
   "outputs": [
    {
     "ename": "LoadError",
     "evalue": "MethodError: objects of type Symbol are not callable",
     "output_type": "error",
     "traceback": [
      "MethodError: objects of type Symbol are not callable",
      "",
      "Stacktrace:",
      " [1] top-level scope at In[5]:1",
      " [2] include_string(::Function, ::Module, ::String, ::String) at ./loading.jl:1091"
     ]
    }
   ],
   "source": [
    "typeof(:println(\"gege\"))"
   ]
  },
  {
   "cell_type": "code",
   "execution_count": 79,
   "metadata": {},
   "outputs": [
    {
     "data": {
      "text/plain": [
       ":z"
      ]
     },
     "execution_count": 79,
     "metadata": {},
     "output_type": "execute_result"
    }
   ],
   "source": [
    ":z"
   ]
  },
  {
   "cell_type": "code",
   "execution_count": 75,
   "metadata": {},
   "outputs": [
    {
     "ename": "LoadError",
     "evalue": "syntax: missing comma or ) in argument list",
     "output_type": "error",
     "traceback": [
      "syntax: missing comma or ) in argument list",
      "",
      "Stacktrace:",
      " [1] top-level scope at In[75]:1",
      " [2] include_string(::Function, ::Module, ::String, ::String) at .\\loading.jl:1091",
      " [3] execute_code(::String, ::String) at C:\\Users\\steff\\.julia\\packages\\IJulia\\rWZ9e\\src\\execute_request.jl:27",
      " [4] execute_request(::ZMQ.Socket, ::IJulia.Msg) at C:\\Users\\steff\\.julia\\packages\\IJulia\\rWZ9e\\src\\execute_request.jl:86",
      " [5] #invokelatest#1 at .\\essentials.jl:710 [inlined]",
      " [6] invokelatest at .\\essentials.jl:709 [inlined]",
      " [7] eventloop(::ZMQ.Socket) at C:\\Users\\steff\\.julia\\packages\\IJulia\\rWZ9e\\src\\eventloop.jl:8",
      " [8] (::IJulia.var\"#15#18\")() at .\\task.jl:356"
     ]
    }
   ],
   "source": [
    "typeof(:(a s))"
   ]
  },
  {
   "cell_type": "code",
   "execution_count": 13,
   "metadata": {},
   "outputs": [
    {
     "data": {
      "text/plain": [
       "\"using Plots; plot(1:5,(1:5).^3)\""
      ]
     },
     "execution_count": 13,
     "metadata": {},
     "output_type": "execute_result"
    }
   ],
   "source": [
    "eval(MyString)"
   ]
  },
  {
   "cell_type": "code",
   "execution_count": 11,
   "metadata": {},
   "outputs": [
    {
     "data": {
      "image/svg+xml": [
       "<?xml version=\"1.0\" encoding=\"utf-8\"?>\n",
       "<svg xmlns=\"http://www.w3.org/2000/svg\" xmlns:xlink=\"http://www.w3.org/1999/xlink\" width=\"600\" height=\"400\" viewBox=\"0 0 2400 1600\">\n",
       "<defs>\n",
       "  <clipPath id=\"clip100\">\n",
       "    <rect x=\"0\" y=\"0\" width=\"2400\" height=\"1600\"/>\n",
       "  </clipPath>\n",
       "</defs>\n",
       "<path clip-path=\"url(#clip100)\" d=\"\n",
       "M0 1600 L2400 1600 L2400 0 L0 0  Z\n",
       "  \" fill=\"#ffffff\" fill-rule=\"evenodd\" fill-opacity=\"1\"/>\n",
       "<defs>\n",
       "  <clipPath id=\"clip101\">\n",
       "    <rect x=\"480\" y=\"0\" width=\"1681\" height=\"1600\"/>\n",
       "  </clipPath>\n",
       "</defs>\n",
       "<path clip-path=\"url(#clip100)\" d=\"\n",
       "M112.177 1486.45 L2352.76 1486.45 L2352.76 47.2441 L112.177 47.2441  Z\n",
       "  \" fill=\"#ffffff\" fill-rule=\"evenodd\" fill-opacity=\"1\"/>\n",
       "<defs>\n",
       "  <clipPath id=\"clip102\">\n",
       "    <rect x=\"112\" y=\"47\" width=\"2242\" height=\"1440\"/>\n",
       "  </clipPath>\n",
       "</defs>\n",
       "<polyline clip-path=\"url(#clip102)\" style=\"stroke:#000000; stroke-width:2; stroke-opacity:0.1; fill:none\" points=\"\n",
       "  175.59,1486.45 175.59,47.2441 \n",
       "  \"/>\n",
       "<polyline clip-path=\"url(#clip102)\" style=\"stroke:#000000; stroke-width:2; stroke-opacity:0.1; fill:none\" points=\"\n",
       "  704.028,1486.45 704.028,47.2441 \n",
       "  \"/>\n",
       "<polyline clip-path=\"url(#clip102)\" style=\"stroke:#000000; stroke-width:2; stroke-opacity:0.1; fill:none\" points=\"\n",
       "  1232.47,1486.45 1232.47,47.2441 \n",
       "  \"/>\n",
       "<polyline clip-path=\"url(#clip102)\" style=\"stroke:#000000; stroke-width:2; stroke-opacity:0.1; fill:none\" points=\"\n",
       "  1760.9,1486.45 1760.9,47.2441 \n",
       "  \"/>\n",
       "<polyline clip-path=\"url(#clip102)\" style=\"stroke:#000000; stroke-width:2; stroke-opacity:0.1; fill:none\" points=\"\n",
       "  2289.34,1486.45 2289.34,47.2441 \n",
       "  \"/>\n",
       "<polyline clip-path=\"url(#clip100)\" style=\"stroke:#000000; stroke-width:4; stroke-opacity:1; fill:none\" points=\"\n",
       "  112.177,1486.45 2352.76,1486.45 \n",
       "  \"/>\n",
       "<polyline clip-path=\"url(#clip100)\" style=\"stroke:#000000; stroke-width:4; stroke-opacity:1; fill:none\" points=\"\n",
       "  175.59,1486.45 175.59,1469.18 \n",
       "  \"/>\n",
       "<polyline clip-path=\"url(#clip100)\" style=\"stroke:#000000; stroke-width:4; stroke-opacity:1; fill:none\" points=\"\n",
       "  704.028,1486.45 704.028,1469.18 \n",
       "  \"/>\n",
       "<polyline clip-path=\"url(#clip100)\" style=\"stroke:#000000; stroke-width:4; stroke-opacity:1; fill:none\" points=\"\n",
       "  1232.47,1486.45 1232.47,1469.18 \n",
       "  \"/>\n",
       "<polyline clip-path=\"url(#clip100)\" style=\"stroke:#000000; stroke-width:4; stroke-opacity:1; fill:none\" points=\"\n",
       "  1760.9,1486.45 1760.9,1469.18 \n",
       "  \"/>\n",
       "<polyline clip-path=\"url(#clip100)\" style=\"stroke:#000000; stroke-width:4; stroke-opacity:1; fill:none\" points=\"\n",
       "  2289.34,1486.45 2289.34,1469.18 \n",
       "  \"/>\n",
       "<path clip-path=\"url(#clip100)\" d=\"M 0 0 M165.972 1543.18 L173.611 1543.18 L173.611 1516.82 L165.3 1518.49 L165.3 1514.23 L173.564 1512.56 L178.24 1512.56 L178.24 1543.18 L185.879 1543.18 L185.879 1547.12 L165.972 1547.12 L165.972 1543.18 Z\" fill=\"#000000\" fill-rule=\"evenodd\" fill-opacity=\"1\" /><path clip-path=\"url(#clip100)\" d=\"M 0 0 M698.681 1543.18 L715 1543.18 L715 1547.12 L693.056 1547.12 L693.056 1543.18 Q695.718 1540.43 700.301 1535.8 Q704.908 1531.15 706.088 1529.81 Q708.334 1527.28 709.213 1525.55 Q710.116 1523.79 710.116 1522.1 Q710.116 1519.34 708.172 1517.61 Q706.25 1515.87 703.149 1515.87 Q700.949 1515.87 698.496 1516.63 Q696.065 1517.4 693.287 1518.95 L693.287 1514.23 Q696.112 1513.09 698.565 1512.51 Q701.019 1511.93 703.056 1511.93 Q708.426 1511.93 711.621 1514.62 Q714.815 1517.31 714.815 1521.8 Q714.815 1523.93 714.005 1525.85 Q713.218 1527.74 711.111 1530.34 Q710.533 1531.01 707.431 1534.23 Q704.329 1537.42 698.681 1543.18 Z\" fill=\"#000000\" fill-rule=\"evenodd\" fill-opacity=\"1\" /><path clip-path=\"url(#clip100)\" d=\"M 0 0 M1236.71 1528.49 Q1240.07 1529.2 1241.95 1531.47 Q1243.84 1533.74 1243.84 1537.07 Q1243.84 1542.19 1240.33 1544.99 Q1236.81 1547.79 1230.33 1547.79 Q1228.15 1547.79 1225.83 1547.35 Q1223.54 1546.93 1221.09 1546.08 L1221.09 1541.56 Q1223.03 1542.7 1225.35 1543.28 Q1227.66 1543.86 1230.19 1543.86 Q1234.58 1543.86 1236.88 1542.12 Q1239.19 1540.38 1239.19 1537.07 Q1239.19 1534.02 1237.04 1532.31 Q1234.91 1530.57 1231.09 1530.57 L1227.06 1530.57 L1227.06 1526.73 L1231.27 1526.73 Q1234.72 1526.73 1236.55 1525.36 Q1238.38 1523.97 1238.38 1521.38 Q1238.38 1518.72 1236.48 1517.31 Q1234.61 1515.87 1231.09 1515.87 Q1229.17 1515.87 1226.97 1516.29 Q1224.77 1516.7 1222.13 1517.58 L1222.13 1513.42 Q1224.79 1512.68 1227.11 1512.31 Q1229.45 1511.93 1231.51 1511.93 Q1236.83 1511.93 1239.93 1514.37 Q1243.03 1516.77 1243.03 1520.89 Q1243.03 1523.76 1241.39 1525.75 Q1239.75 1527.72 1236.71 1528.49 Z\" fill=\"#000000\" fill-rule=\"evenodd\" fill-opacity=\"1\" /><path clip-path=\"url(#clip100)\" d=\"M 0 0 M1763.91 1516.63 L1752.11 1535.08 L1763.91 1535.08 L1763.91 1516.63 M1762.69 1512.56 L1768.57 1512.56 L1768.57 1535.08 L1773.5 1535.08 L1773.5 1538.97 L1768.57 1538.97 L1768.57 1547.12 L1763.91 1547.12 L1763.91 1538.97 L1748.31 1538.97 L1748.31 1534.46 L1762.69 1512.56 Z\" fill=\"#000000\" fill-rule=\"evenodd\" fill-opacity=\"1\" /><path clip-path=\"url(#clip100)\" d=\"M 0 0 M2279.62 1512.56 L2297.98 1512.56 L2297.98 1516.5 L2283.9 1516.5 L2283.9 1524.97 Q2284.92 1524.62 2285.94 1524.46 Q2286.96 1524.27 2287.98 1524.27 Q2293.76 1524.27 2297.14 1527.44 Q2300.52 1530.62 2300.52 1536.03 Q2300.52 1541.61 2297.05 1544.71 Q2293.58 1547.79 2287.26 1547.79 Q2285.08 1547.79 2282.82 1547.42 Q2280.57 1547.05 2278.16 1546.31 L2278.16 1541.61 Q2280.25 1542.74 2282.47 1543.3 Q2284.69 1543.86 2287.17 1543.86 Q2291.17 1543.86 2293.51 1541.75 Q2295.85 1539.64 2295.85 1536.03 Q2295.85 1532.42 2293.51 1530.31 Q2291.17 1528.21 2287.17 1528.21 Q2285.29 1528.21 2283.42 1528.62 Q2281.57 1529.04 2279.62 1529.92 L2279.62 1512.56 Z\" fill=\"#000000\" fill-rule=\"evenodd\" fill-opacity=\"1\" /><polyline clip-path=\"url(#clip102)\" style=\"stroke:#000000; stroke-width:2; stroke-opacity:0.1; fill:none\" points=\"\n",
       "  112.177,1445.72 2352.76,1445.72 \n",
       "  \"/>\n",
       "<polyline clip-path=\"url(#clip102)\" style=\"stroke:#000000; stroke-width:2; stroke-opacity:0.1; fill:none\" points=\"\n",
       "  112.177,1106.28 2352.76,1106.28 \n",
       "  \"/>\n",
       "<polyline clip-path=\"url(#clip102)\" style=\"stroke:#000000; stroke-width:2; stroke-opacity:0.1; fill:none\" points=\"\n",
       "  112.177,766.846 2352.76,766.846 \n",
       "  \"/>\n",
       "<polyline clip-path=\"url(#clip102)\" style=\"stroke:#000000; stroke-width:2; stroke-opacity:0.1; fill:none\" points=\"\n",
       "  112.177,427.411 2352.76,427.411 \n",
       "  \"/>\n",
       "<polyline clip-path=\"url(#clip102)\" style=\"stroke:#000000; stroke-width:2; stroke-opacity:0.1; fill:none\" points=\"\n",
       "  112.177,87.9763 2352.76,87.9763 \n",
       "  \"/>\n",
       "<polyline clip-path=\"url(#clip100)\" style=\"stroke:#000000; stroke-width:4; stroke-opacity:1; fill:none\" points=\"\n",
       "  112.177,1486.45 112.177,47.2441 \n",
       "  \"/>\n",
       "<polyline clip-path=\"url(#clip100)\" style=\"stroke:#000000; stroke-width:4; stroke-opacity:1; fill:none\" points=\"\n",
       "  112.177,1445.72 139.064,1445.72 \n",
       "  \"/>\n",
       "<polyline clip-path=\"url(#clip100)\" style=\"stroke:#000000; stroke-width:4; stroke-opacity:1; fill:none\" points=\"\n",
       "  112.177,1106.28 139.064,1106.28 \n",
       "  \"/>\n",
       "<polyline clip-path=\"url(#clip100)\" style=\"stroke:#000000; stroke-width:4; stroke-opacity:1; fill:none\" points=\"\n",
       "  112.177,766.846 139.064,766.846 \n",
       "  \"/>\n",
       "<polyline clip-path=\"url(#clip100)\" style=\"stroke:#000000; stroke-width:4; stroke-opacity:1; fill:none\" points=\"\n",
       "  112.177,427.411 139.064,427.411 \n",
       "  \"/>\n",
       "<polyline clip-path=\"url(#clip100)\" style=\"stroke:#000000; stroke-width:4; stroke-opacity:1; fill:none\" points=\"\n",
       "  112.177,87.9763 139.064,87.9763 \n",
       "  \"/>\n",
       "<path clip-path=\"url(#clip100)\" d=\"M 0 0 M56.2699 1459.06 L63.9087 1459.06 L63.9087 1432.69 L55.5986 1434.36 L55.5986 1430.1 L63.8624 1428.44 L68.5383 1428.44 L68.5383 1459.06 L76.1772 1459.06 L76.1772 1463 L56.2699 1463 L56.2699 1459.06 Z\" fill=\"#000000\" fill-rule=\"evenodd\" fill-opacity=\"1\" /><path clip-path=\"url(#clip100)\" d=\"M 0 0 M59.8578 1119.63 L76.1772 1119.63 L76.1772 1123.56 L54.2328 1123.56 L54.2328 1119.63 Q56.8949 1116.87 61.4782 1112.24 Q66.0846 1107.59 67.2652 1106.25 Q69.5105 1103.72 70.3902 1101.99 Q71.2929 1100.23 71.2929 1098.54 Q71.2929 1095.78 69.3485 1094.05 Q67.4272 1092.31 64.3254 1092.31 Q62.1263 1092.31 59.6726 1093.07 Q57.2421 1093.84 54.4643 1095.39 L54.4643 1090.67 Q57.2884 1089.53 59.7421 1088.95 Q62.1958 1088.38 64.2328 1088.38 Q69.6031 1088.38 72.7976 1091.06 Q75.992 1093.75 75.992 1098.24 Q75.992 1100.37 75.1818 1102.29 Q74.3948 1104.19 72.2883 1106.78 Q71.7096 1107.45 68.6078 1110.67 Q65.5059 1113.86 59.8578 1119.63 Z\" fill=\"#000000\" fill-rule=\"evenodd\" fill-opacity=\"1\" /><path clip-path=\"url(#clip100)\" d=\"M 0 0 M69.0476 765.492 Q72.404 766.209 74.279 768.478 Q76.1772 770.746 76.1772 774.08 Q76.1772 779.195 72.6587 781.996 Q69.1402 784.797 62.6587 784.797 Q60.4828 784.797 58.168 784.357 Q55.8764 783.941 53.4227 783.084 L53.4227 778.57 Q55.3671 779.705 57.6819 780.283 Q59.9967 780.862 62.5198 780.862 Q66.918 780.862 69.2096 779.126 Q71.5244 777.39 71.5244 774.08 Q71.5244 771.024 69.3717 769.311 Q67.242 767.575 63.4226 767.575 L59.3949 767.575 L59.3949 763.733 L63.6078 763.733 Q67.0569 763.733 68.8855 762.367 Q70.7142 760.978 70.7142 758.385 Q70.7142 755.723 68.8161 754.311 Q66.9411 752.876 63.4226 752.876 Q61.5013 752.876 59.3023 753.293 Q57.1032 753.709 54.4643 754.589 L54.4643 750.422 Q57.1264 749.682 59.4412 749.311 Q61.7791 748.941 63.8393 748.941 Q69.1633 748.941 72.2652 751.372 Q75.367 753.779 75.367 757.899 Q75.367 760.77 73.7235 762.76 Q72.08 764.728 69.0476 765.492 Z\" fill=\"#000000\" fill-rule=\"evenodd\" fill-opacity=\"1\" /><path clip-path=\"url(#clip100)\" d=\"M 0 0 M66.5939 414.205 L54.7884 432.654 L66.5939 432.654 L66.5939 414.205 M65.367 410.131 L71.2466 410.131 L71.2466 432.654 L76.1772 432.654 L76.1772 436.543 L71.2466 436.543 L71.2466 444.691 L66.5939 444.691 L66.5939 436.543 L50.9921 436.543 L50.9921 432.029 L65.367 410.131 Z\" fill=\"#000000\" fill-rule=\"evenodd\" fill-opacity=\"1\" /><path clip-path=\"url(#clip100)\" d=\"M 0 0 M55.2745 70.6963 L73.6309 70.6963 L73.6309 74.6314 L59.5569 74.6314 L59.5569 83.1036 Q60.5754 82.7564 61.5939 82.5944 Q62.6124 82.4092 63.6309 82.4092 Q69.418 82.4092 72.7976 85.5805 Q76.1772 88.7517 76.1772 94.1684 Q76.1772 99.747 72.705 102.849 Q69.2328 105.928 62.9134 105.928 Q60.7374 105.928 58.4689 105.557 Q56.2236 105.187 53.8162 104.446 L53.8162 99.747 Q55.8995 100.881 58.1217 101.437 Q60.3439 101.992 62.8208 101.992 Q66.8254 101.992 69.1633 99.8859 Q71.5013 97.7795 71.5013 94.1684 Q71.5013 90.5573 69.1633 88.4508 Q66.8254 86.3443 62.8208 86.3443 Q60.9458 86.3443 59.0708 86.761 Q57.2189 87.1777 55.2745 88.0573 L55.2745 70.6963 Z\" fill=\"#000000\" fill-rule=\"evenodd\" fill-opacity=\"1\" /><polyline clip-path=\"url(#clip102)\" style=\"stroke:#009af9; stroke-width:4; stroke-opacity:1; fill:none\" points=\"\n",
       "  175.59,1445.72 704.028,1106.28 1232.47,766.846 1760.9,427.411 2289.34,87.9763 \n",
       "  \"/>\n",
       "<path clip-path=\"url(#clip102)\" d=\"M175.59 1461.72 L161.734 1453.72 L161.734 1437.72 L175.59 1429.72 L189.446 1437.72 L189.446 1453.72 Z\" fill=\"#009af9\" fill-rule=\"evenodd\" fill-opacity=\"1\" stroke=\"#000000\" stroke-opacity=\"1\" stroke-width=\"3.2\"/>\n",
       "<path clip-path=\"url(#clip102)\" d=\"M704.028 1122.28 L690.172 1114.28 L690.172 1098.28 L704.028 1090.28 L717.884 1098.28 L717.884 1114.28 Z\" fill=\"#009af9\" fill-rule=\"evenodd\" fill-opacity=\"1\" stroke=\"#000000\" stroke-opacity=\"1\" stroke-width=\"3.2\"/>\n",
       "<path clip-path=\"url(#clip102)\" d=\"M1232.47 782.846 L1218.61 774.846 L1218.61 758.846 L1232.47 750.846 L1246.32 758.846 L1246.32 774.846 Z\" fill=\"#009af9\" fill-rule=\"evenodd\" fill-opacity=\"1\" stroke=\"#000000\" stroke-opacity=\"1\" stroke-width=\"3.2\"/>\n",
       "<path clip-path=\"url(#clip102)\" d=\"M1760.9 443.411 L1747.05 435.411 L1747.05 419.411 L1760.9 411.411 L1774.76 419.411 L1774.76 435.411 Z\" fill=\"#009af9\" fill-rule=\"evenodd\" fill-opacity=\"1\" stroke=\"#000000\" stroke-opacity=\"1\" stroke-width=\"3.2\"/>\n",
       "<path clip-path=\"url(#clip102)\" d=\"M2289.34 103.976 L2275.49 95.9763 L2275.49 79.9763 L2289.34 71.9763 L2303.2 79.9763 L2303.2 95.9763 Z\" fill=\"#009af9\" fill-rule=\"evenodd\" fill-opacity=\"1\" stroke=\"#000000\" stroke-opacity=\"1\" stroke-width=\"3.2\"/>\n",
       "<path clip-path=\"url(#clip100)\" d=\"\n",
       "M1978.1 216.178 L2278.07 216.178 L2278.07 95.2176 L1978.1 95.2176  Z\n",
       "  \" fill=\"#ffffff\" fill-rule=\"evenodd\" fill-opacity=\"1\"/>\n",
       "<polyline clip-path=\"url(#clip100)\" style=\"stroke:#000000; stroke-width:4; stroke-opacity:1; fill:none\" points=\"\n",
       "  1978.1,216.178 2278.07,216.178 2278.07,95.2176 1978.1,95.2176 1978.1,216.178 \n",
       "  \"/>\n",
       "<polyline clip-path=\"url(#clip100)\" style=\"stroke:#009af9; stroke-width:4; stroke-opacity:1; fill:none\" points=\"\n",
       "  2002.99,155.698 2152.37,155.698 \n",
       "  \"/>\n",
       "<path clip-path=\"url(#clip100)\" d=\"M2077.68 181.298 L2055.51 168.498 L2055.51 142.898 L2077.68 130.098 L2099.85 142.898 L2099.85 168.498 Z\" fill=\"#009af9\" fill-rule=\"evenodd\" fill-opacity=\"1\" stroke=\"#000000\" stroke-opacity=\"1\" stroke-width=\"5.12\"/>\n",
       "<path clip-path=\"url(#clip100)\" d=\"M 0 0 M2191.1 175.385 Q2189.3 180.015 2187.59 181.427 Q2185.87 182.839 2183 182.839 L2179.6 182.839 L2179.6 179.274 L2182.1 179.274 Q2183.86 179.274 2184.83 178.44 Q2185.8 177.607 2186.98 174.505 L2187.75 172.561 L2177.26 147.052 L2181.77 147.052 L2189.88 167.329 L2197.98 147.052 L2202.49 147.052 L2191.1 175.385 Z\" fill=\"#000000\" fill-rule=\"evenodd\" fill-opacity=\"1\" /><path clip-path=\"url(#clip100)\" d=\"M 0 0 M2208.37 169.042 L2216.01 169.042 L2216.01 142.677 L2207.7 144.343 L2207.7 140.084 L2215.96 138.418 L2220.64 138.418 L2220.64 169.042 L2228.28 169.042 L2228.28 172.978 L2208.37 172.978 L2208.37 169.042 Z\" fill=\"#000000\" fill-rule=\"evenodd\" fill-opacity=\"1\" /></svg>\n"
      ]
     },
     "execution_count": 11,
     "metadata": {},
     "output_type": "execute_result"
    }
   ],
   "source": [
    "eval(:(plot(1:5,1:5,marker=:hex)))"
   ]
  },
  {
   "cell_type": "code",
   "execution_count": 10,
   "metadata": {},
   "outputs": [],
   "source": [
    "using Plots"
   ]
  },
  {
   "cell_type": "code",
   "execution_count": 92,
   "metadata": {},
   "outputs": [
    {
     "data": {
      "text/plain": [
       ":($(Expr(:toplevel, :(using Plots), :(plot(1:5, (1:5) .^ 3)))))"
      ]
     },
     "execution_count": 92,
     "metadata": {},
     "output_type": "execute_result"
    }
   ],
   "source": [
    "Meta.parse(MyString)"
   ]
  },
  {
   "cell_type": "markdown",
   "metadata": {},
   "source": [
    "# Benchmarking"
   ]
  },
  {
   "cell_type": "code",
   "execution_count": 114,
   "metadata": {},
   "outputs": [
    {
     "data": {
      "text/plain": [
       "BenchmarkTools.Trial: \n",
       "  memory estimate:  0 bytes\n",
       "  allocs estimate:  0\n",
       "  --------------\n",
       "  minimum time:     1.499 ns (0.00% GC)\n",
       "  median time:      1.600 ns (0.00% GC)\n",
       "  mean time:        1.583 ns (0.00% GC)\n",
       "  maximum time:     14.900 ns (0.00% GC)\n",
       "  --------------\n",
       "  samples:          10000\n",
       "  evals/sample:     1000"
      ]
     },
     "execution_count": 114,
     "metadata": {},
     "output_type": "execute_result"
    }
   ],
   "source": [
    "@benchmark hypot(3.0,4.0,5.0)"
   ]
  },
  {
   "cell_type": "code",
   "execution_count": 112,
   "metadata": {},
   "outputs": [
    {
     "data": {
      "text/plain": [
       "BenchmarkTools.Trial: \n",
       "  memory estimate:  0 bytes\n",
       "  allocs estimate:  0\n",
       "  --------------\n",
       "  minimum time:     1.499 ns (0.00% GC)\n",
       "  median time:      1.600 ns (0.00% GC)\n",
       "  mean time:        1.575 ns (0.00% GC)\n",
       "  maximum time:     15.100 ns (0.00% GC)\n",
       "  --------------\n",
       "  samples:          10000\n",
       "  evals/sample:     1000"
      ]
     },
     "execution_count": 112,
     "metadata": {},
     "output_type": "execute_result"
    }
   ],
   "source": [
    "@benchmark sqrt(3.0^2+4.0^2+5.0^2)"
   ]
  },
  {
   "cell_type": "markdown",
   "metadata": {},
   "source": [
    "# Composite Types"
   ]
  },
  {
   "cell_type": "code",
   "execution_count": 137,
   "metadata": {},
   "outputs": [],
   "source": [
    "mutable struct Charact\n",
    "    age::Int\n",
    "    fullname::String\n",
    "    attr::Array{Int64,1}\n",
    "end"
   ]
  },
  {
   "cell_type": "code",
   "execution_count": 138,
   "metadata": {},
   "outputs": [
    {
     "data": {
      "text/plain": [
       "Charact(15, \"Peter Amadeus Mozart\", [2, 2])"
      ]
     },
     "execution_count": 138,
     "metadata": {},
     "output_type": "execute_result"
    }
   ],
   "source": [
    "Peter=Charact(15,\"Peter Amadeus Mozart\",[2,2.])"
   ]
  },
  {
   "cell_type": "code",
   "execution_count": 140,
   "metadata": {},
   "outputs": [
    {
     "data": {
      "text/plain": [
       "2-element Array{Int64,1}:\n",
       " 1\n",
       " 1"
      ]
     },
     "execution_count": 140,
     "metadata": {},
     "output_type": "execute_result"
    }
   ],
   "source": [
    "Peter.attr=[1,1]"
   ]
  },
  {
   "cell_type": "markdown",
   "metadata": {},
   "source": [
    "# Dictionaries"
   ]
  },
  {
   "cell_type": "code",
   "execution_count": 169,
   "metadata": {},
   "outputs": [
    {
     "data": {
      "text/plain": [
       "Dict{String,Any} with 2 entries:\n",
       "  \"b\" => 2\n",
       "  \"a\" => 1"
      ]
     },
     "execution_count": 169,
     "metadata": {},
     "output_type": "execute_result"
    }
   ],
   "source": [
    "d = Dict{String,Any}(\"a\"=>1, \"b\"=>2)"
   ]
  },
  {
   "cell_type": "code",
   "execution_count": 170,
   "metadata": {},
   "outputs": [
    {
     "data": {
      "text/plain": [
       "4"
      ]
     },
     "execution_count": 170,
     "metadata": {},
     "output_type": "execute_result"
    }
   ],
   "source": [
    "d[\"c\"]=4"
   ]
  },
  {
   "cell_type": "code",
   "execution_count": 173,
   "metadata": {},
   "outputs": [
    {
     "data": {
      "text/plain": [
       "\"waswas\""
      ]
     },
     "execution_count": 173,
     "metadata": {},
     "output_type": "execute_result"
    }
   ],
   "source": [
    "d[\"a\"]=\"waswas\""
   ]
  },
  {
   "cell_type": "code",
   "execution_count": 175,
   "metadata": {},
   "outputs": [
    {
     "data": {
      "text/plain": [
       "Dict{Int64,String} with 2 entries:\n",
       "  2 => \"Dexterity\"\n",
       "  1 => \"Strength\""
      ]
     },
     "execution_count": 175,
     "metadata": {},
     "output_type": "execute_result"
    }
   ],
   "source": [
    "attr=Dict(1=>\"Strength\",2=>\"Dexterity\")"
   ]
  },
  {
   "cell_type": "markdown",
   "metadata": {},
   "source": [
    "# To do\n",
    "- [ ] data types\n",
    "- [ ] function default parameters / data types as arguments\n",
    "- [ ] function/loop/if overwriting/creating variables\n",
    "- [ ] performance tips\n",
    "- [ ] how to get external packages from github -> import -> use them?\n",
    "- [ ] machine learning\n",
    "- [ ] principle component analysis\n",
    "- [ ] bootstrapping\n",
    "- [ ] statistics: p-value , t-test confidence interval\n",
    "- [ ] agent based simulation (see what Matze wrote)\n",
    "\n",
    "\n",
    "- (non)mutating functions\n",
    "- scope of variables / mutating behaviour?\n",
    "- data types\n",
    "- structs\n",
    "- define own data type vs struct\n",
    "- macros (@time etc)\n",
    "- modules"
   ]
  }
 ],
 "metadata": {
  "kernelspec": {
   "display_name": "Julia 1.5.3",
   "language": "julia",
   "name": "julia-1.5"
  },
  "language_info": {
   "file_extension": ".jl",
   "mimetype": "application/julia",
   "name": "julia",
   "version": "1.5.3"
  }
 },
 "nbformat": 4,
 "nbformat_minor": 4
}
