{
 "cells": [
  {
   "cell_type": "markdown",
   "metadata": {},
   "source": [
    "# Julia\n",
    "\n",
    "## Learning resources\n",
    "https://docs.julialang.org/en/v1/manual/getting-started/ (official documentation)\n",
    "https://juliaacademy.com/courses\n",
    "https://www.youtube.com/channel/UCGnK5pYXk6XYGdecreUA1jA/videos\n",
    "\n",
    "## Installation\n",
    "- Anaconda: https://linuxize.com/post/how-to-install-anaconda-on-ubuntu-20-04/\n",
    "- Julia: \n",
    "\n",
    "first in terminal\n",
    "\n",
    "    sudo apt install julia\n",
    "\n",
    "second in Julia\n",
    "\n",
    "    using Pkg\n",
    "    Pkg.add(IJulia\")\n",
    "\n",
    "## Questions / To do\n",
    "- [ ] data types\n",
    "- [ ] function default parameters / data types as arguments\n",
    "- [ ] function/loop/if overwriting/creating variables\n",
    "- [ ] performance tips\n",
    "- [ ] how to get external packages from github -> import -> use them?\n",
    "- [ ] machine learning\n",
    "- [ ] principle component analysis\n",
    "- [ ] bootstrapping\n",
    "- [ ] statistics: p-value , t-test confidence interval\n",
    "- [ ] agent based simulation (see what Matze wrote)\n",
    "\n",
    "\n",
    "- (non)mutating functions\n",
    "- scope of variables / mutating behaviour?\n",
    "- data types\n",
    "- structs\n",
    "- define own data type vs struct\n",
    "- macros (@time etc)\n",
    "- modules\n",
    "\n"
   ]
  },
  {
   "cell_type": "code",
   "execution_count": 2,
   "metadata": {},
   "outputs": [
    {
     "data": {
      "text/plain": [
       "4×3 Array{Int64,2}:\n",
       " 1  1  1\n",
       " 2  2  2\n",
       " 1  1  1\n",
       " 2  2  2"
      ]
     },
     "execution_count": 2,
     "metadata": {},
     "output_type": "execute_result"
    }
   ],
   "source": [
    "a=[1;2]\n",
    "repeat(a,2,3)"
   ]
  },
  {
   "cell_type": "markdown",
   "metadata": {},
   "source": [
    "# Data Types\n",
    "\n",
    "### Integers\n",
    "\n",
    "### Floats\n",
    "\n",
    "### Arrays\n",
    "\n",
    "### Tupels\n",
    "\n",
    "### Expressions\n",
    "\n",
    "### Strings\n",
    "\n",
    "### Chars\n",
    "\n",
    "### Functions\n",
    "\n",
    "### Macros"
   ]
  },
  {
   "cell_type": "code",
   "execution_count": 237,
   "metadata": {},
   "outputs": [
    {
     "data": {
      "text/plain": [
       "10-element Array{String,1}:\n",
       " #undef\n",
       " #undef\n",
       " #undef\n",
       " #undef\n",
       " #undef\n",
       " #undef\n",
       " #undef\n",
       " #undef\n",
       " #undef\n",
       " #undef"
      ]
     },
     "execution_count": 237,
     "metadata": {},
     "output_type": "execute_result"
    }
   ],
   "source": [
    "Array{String,1}(undef,10)"
   ]
  },
  {
   "cell_type": "markdown",
   "metadata": {},
   "source": [
    "# Macros"
   ]
  },
  {
   "cell_type": "code",
   "execution_count": 11,
   "metadata": {},
   "outputs": [
    {
     "ename": "LoadError",
     "evalue": "MethodError: no method matching abs(::Array{Float64,2})\nClosest candidates are:\n  abs(!Matched::Pkg.Resolve.FieldValue) at D:\\buildbot\\worker\\package_win64\\build\\usr\\share\\julia\\stdlib\\v1.5\\Pkg\\src\\Resolve\\fieldvalues.jl:61\n  abs(!Matched::Pkg.Resolve.VersionWeight) at D:\\buildbot\\worker\\package_win64\\build\\usr\\share\\julia\\stdlib\\v1.5\\Pkg\\src\\Resolve\\versionweights.jl:36\n  abs(!Matched::Missing) at missing.jl:100\n  ...",
     "output_type": "error",
     "traceback": [
      "MethodError: no method matching abs(::Array{Float64,2})\nClosest candidates are:\n  abs(!Matched::Pkg.Resolve.FieldValue) at D:\\buildbot\\worker\\package_win64\\build\\usr\\share\\julia\\stdlib\\v1.5\\Pkg\\src\\Resolve\\fieldvalues.jl:61\n  abs(!Matched::Pkg.Resolve.VersionWeight) at D:\\buildbot\\worker\\package_win64\\build\\usr\\share\\julia\\stdlib\\v1.5\\Pkg\\src\\Resolve\\versionweights.jl:36\n  abs(!Matched::Missing) at missing.jl:100\n  ...",
      "",
      "Stacktrace:",
      " [1] _broadcast_getindex_evalf at .\\broadcast.jl:648 [inlined]",
      " [2] _broadcast_getindex at .\\broadcast.jl:621 [inlined]",
      " [3] getindex at .\\broadcast.jl:575 [inlined]",
      " [4] copy at .\\broadcast.jl:876 [inlined]",
      " [5] materialize(::Base.Broadcast.Broadcasted{Base.Broadcast.DefaultArrayStyle{1},Nothing,typeof(abs),Tuple{Base.Broadcast.Broadcasted{Base.Broadcast.DefaultArrayStyle{1},Nothing,typeof(rand),Tuple{UnitRange{Int64},Int64}}}}) at .\\broadcast.jl:837",
      " [6] top-level scope at In[11]:1",
      " [7] include_string(::Function, ::Module, ::String, ::String) at .\\loading.jl:1091",
      " [8] execute_code(::String, ::String) at C:\\Users\\steff\\.julia\\packages\\IJulia\\rWZ9e\\src\\execute_request.jl:27",
      " [9] execute_request(::ZMQ.Socket, ::IJulia.Msg) at C:\\Users\\steff\\.julia\\packages\\IJulia\\rWZ9e\\src\\execute_request.jl:86",
      " [10] #invokelatest#1 at .\\essentials.jl:710 [inlined]",
      " [11] invokelatest at .\\essentials.jl:709 [inlined]",
      " [12] eventloop(::ZMQ.Socket) at C:\\Users\\steff\\.julia\\packages\\IJulia\\rWZ9e\\src\\eventloop.jl:8",
      " [13] (::IJulia.var\"#15#18\")() at .\\task.jl:356"
     ]
    }
   ],
   "source": [
    "@__dot__ abs(rand(1:10,5))"
   ]
  },
  {
   "cell_type": "code",
   "execution_count": 91,
   "metadata": {},
   "outputs": [
    {
     "data": {
      "text/plain": [
       "UnionAll"
      ]
     },
     "execution_count": 91,
     "metadata": {},
     "output_type": "execute_result"
    }
   ],
   "source": [
    "typeof(Matrix)"
   ]
  },
  {
   "cell_type": "code",
   "execution_count": 55,
   "metadata": {},
   "outputs": [
    {
     "data": {
      "text/plain": [
       "quote\n",
       "    using Plots\n",
       "    #= In[55]:1 =#\n",
       "    plot(1:5, (1:5) .^ 2)\n",
       "end"
      ]
     },
     "execution_count": 55,
     "metadata": {},
     "output_type": "execute_result"
    }
   ],
   "source": [
    "MySym=:(using Plots; plot(1:5,(1:5).^2))"
   ]
  },
  {
   "cell_type": "code",
   "execution_count": 56,
   "metadata": {},
   "outputs": [
    {
     "data": {
      "text/plain": [
       "\"using Plots; plot(1:5,(1:5).^3)\""
      ]
     },
     "execution_count": 56,
     "metadata": {},
     "output_type": "execute_result"
    }
   ],
   "source": [
    "MyString=\"using Plots; plot(1:5,(1:5).^3)\""
   ]
  },
  {
   "cell_type": "code",
   "execution_count": 69,
   "metadata": {},
   "outputs": [
    {
     "ename": "LoadError",
     "evalue": "error in method definition: function Base.! must be explicitly imported to be extended",
     "output_type": "error",
     "traceback": [
      "error in method definition: function Base.! must be explicitly imported to be extended",
      "",
      "Stacktrace:",
      " [1] top-level scope at none:0",
      " [2] top-level scope at In[69]:2",
      " [3] include_string(::Function, ::Module, ::String, ::String) at .\\loading.jl:1091",
      " [4] execute_code(::String, ::String) at C:\\Users\\steff\\.julia\\packages\\IJulia\\rWZ9e\\src\\execute_request.jl:27",
      " [5] execute_request(::ZMQ.Socket, ::IJulia.Msg) at C:\\Users\\steff\\.julia\\packages\\IJulia\\rWZ9e\\src\\execute_request.jl:86",
      " [6] #invokelatest#1 at .\\essentials.jl:710 [inlined]",
      " [7] invokelatest at .\\essentials.jl:709 [inlined]",
      " [8] eventloop(::ZMQ.Socket) at C:\\Users\\steff\\.julia\\packages\\IJulia\\rWZ9e\\src\\eventloop.jl:8",
      " [9] (::IJulia.var\"#15#18\")() at .\\task.jl:356"
     ]
    }
   ],
   "source": [
    "eval(Meta.parse(MyString))"
   ]
  },
  {
   "cell_type": "code",
   "execution_count": 86,
   "metadata": {},
   "outputs": [
    {
     "ename": "LoadError",
     "evalue": "MethodError: objects of type Symbol are not callable",
     "output_type": "error",
     "traceback": [
      "MethodError: objects of type Symbol are not callable",
      "",
      "Stacktrace:",
      " [1] top-level scope at In[86]:1",
      " [2] include_string(::Function, ::Module, ::String, ::String) at .\\loading.jl:1091",
      " [3] execute_code(::String, ::String) at C:\\Users\\steff\\.julia\\packages\\IJulia\\rWZ9e\\src\\execute_request.jl:27",
      " [4] execute_request(::ZMQ.Socket, ::IJulia.Msg) at C:\\Users\\steff\\.julia\\packages\\IJulia\\rWZ9e\\src\\execute_request.jl:86",
      " [5] #invokelatest#1 at .\\essentials.jl:710 [inlined]",
      " [6] invokelatest at .\\essentials.jl:709 [inlined]",
      " [7] eventloop(::ZMQ.Socket) at C:\\Users\\steff\\.julia\\packages\\IJulia\\rWZ9e\\src\\eventloop.jl:8",
      " [8] (::IJulia.var\"#15#18\")() at .\\task.jl:356"
     ]
    }
   ],
   "source": [
    "typeof(:println(\"gege\"))"
   ]
  },
  {
   "cell_type": "code",
   "execution_count": 79,
   "metadata": {},
   "outputs": [
    {
     "data": {
      "text/plain": [
       ":z"
      ]
     },
     "execution_count": 79,
     "metadata": {},
     "output_type": "execute_result"
    }
   ],
   "source": [
    ":z"
   ]
  },
  {
   "cell_type": "code",
   "execution_count": 75,
   "metadata": {},
   "outputs": [
    {
     "ename": "LoadError",
     "evalue": "syntax: missing comma or ) in argument list",
     "output_type": "error",
     "traceback": [
      "syntax: missing comma or ) in argument list",
      "",
      "Stacktrace:",
      " [1] top-level scope at In[75]:1",
      " [2] include_string(::Function, ::Module, ::String, ::String) at .\\loading.jl:1091",
      " [3] execute_code(::String, ::String) at C:\\Users\\steff\\.julia\\packages\\IJulia\\rWZ9e\\src\\execute_request.jl:27",
      " [4] execute_request(::ZMQ.Socket, ::IJulia.Msg) at C:\\Users\\steff\\.julia\\packages\\IJulia\\rWZ9e\\src\\execute_request.jl:86",
      " [5] #invokelatest#1 at .\\essentials.jl:710 [inlined]",
      " [6] invokelatest at .\\essentials.jl:709 [inlined]",
      " [7] eventloop(::ZMQ.Socket) at C:\\Users\\steff\\.julia\\packages\\IJulia\\rWZ9e\\src\\eventloop.jl:8",
      " [8] (::IJulia.var\"#15#18\")() at .\\task.jl:356"
     ]
    }
   ],
   "source": [
    "typeof(:(a s))"
   ]
  },
  {
   "cell_type": "code",
   "execution_count": 95,
   "metadata": {},
   "outputs": [
    {
     "data": {
      "text/plain": [
       "\"using Plots; plot(1:5,(1:5).^3)\""
      ]
     },
     "execution_count": 95,
     "metadata": {},
     "output_type": "execute_result"
    }
   ],
   "source": [
    "eval(MyString)"
   ]
  },
  {
   "cell_type": "code",
   "execution_count": 98,
   "metadata": {},
   "outputs": [
    {
     "data": {
      "image/svg+xml": [
       "<?xml version=\"1.0\" encoding=\"utf-8\"?>\n",
       "<svg xmlns=\"http://www.w3.org/2000/svg\" xmlns:xlink=\"http://www.w3.org/1999/xlink\" width=\"600\" height=\"400\" viewBox=\"0 0 2400 1600\">\n",
       "<defs>\n",
       "  <clipPath id=\"clip380\">\n",
       "    <rect x=\"0\" y=\"0\" width=\"2400\" height=\"1600\"/>\n",
       "  </clipPath>\n",
       "</defs>\n",
       "<path clip-path=\"url(#clip380)\" d=\"\n",
       "M0 1600 L2400 1600 L2400 0 L0 0  Z\n",
       "  \" fill=\"#ffffff\" fill-rule=\"evenodd\" fill-opacity=\"1\"/>\n",
       "<defs>\n",
       "  <clipPath id=\"clip381\">\n",
       "    <rect x=\"480\" y=\"0\" width=\"1681\" height=\"1600\"/>\n",
       "  </clipPath>\n",
       "</defs>\n",
       "<path clip-path=\"url(#clip380)\" d=\"\n",
       "M112.177 1486.45 L2352.76 1486.45 L2352.76 47.2441 L112.177 47.2441  Z\n",
       "  \" fill=\"#ffffff\" fill-rule=\"evenodd\" fill-opacity=\"1\"/>\n",
       "<defs>\n",
       "  <clipPath id=\"clip382\">\n",
       "    <rect x=\"112\" y=\"47\" width=\"2242\" height=\"1440\"/>\n",
       "  </clipPath>\n",
       "</defs>\n",
       "<polyline clip-path=\"url(#clip382)\" style=\"stroke:#000000; stroke-width:2; stroke-opacity:0.1; fill:none\" points=\"\n",
       "  175.59,1486.45 175.59,47.2441 \n",
       "  \"/>\n",
       "<polyline clip-path=\"url(#clip382)\" style=\"stroke:#000000; stroke-width:2; stroke-opacity:0.1; fill:none\" points=\"\n",
       "  704.028,1486.45 704.028,47.2441 \n",
       "  \"/>\n",
       "<polyline clip-path=\"url(#clip382)\" style=\"stroke:#000000; stroke-width:2; stroke-opacity:0.1; fill:none\" points=\"\n",
       "  1232.47,1486.45 1232.47,47.2441 \n",
       "  \"/>\n",
       "<polyline clip-path=\"url(#clip382)\" style=\"stroke:#000000; stroke-width:2; stroke-opacity:0.1; fill:none\" points=\"\n",
       "  1760.9,1486.45 1760.9,47.2441 \n",
       "  \"/>\n",
       "<polyline clip-path=\"url(#clip382)\" style=\"stroke:#000000; stroke-width:2; stroke-opacity:0.1; fill:none\" points=\"\n",
       "  2289.34,1486.45 2289.34,47.2441 \n",
       "  \"/>\n",
       "<polyline clip-path=\"url(#clip380)\" style=\"stroke:#000000; stroke-width:4; stroke-opacity:1; fill:none\" points=\"\n",
       "  112.177,1486.45 2352.76,1486.45 \n",
       "  \"/>\n",
       "<polyline clip-path=\"url(#clip380)\" style=\"stroke:#000000; stroke-width:4; stroke-opacity:1; fill:none\" points=\"\n",
       "  175.59,1486.45 175.59,1469.18 \n",
       "  \"/>\n",
       "<polyline clip-path=\"url(#clip380)\" style=\"stroke:#000000; stroke-width:4; stroke-opacity:1; fill:none\" points=\"\n",
       "  704.028,1486.45 704.028,1469.18 \n",
       "  \"/>\n",
       "<polyline clip-path=\"url(#clip380)\" style=\"stroke:#000000; stroke-width:4; stroke-opacity:1; fill:none\" points=\"\n",
       "  1232.47,1486.45 1232.47,1469.18 \n",
       "  \"/>\n",
       "<polyline clip-path=\"url(#clip380)\" style=\"stroke:#000000; stroke-width:4; stroke-opacity:1; fill:none\" points=\"\n",
       "  1760.9,1486.45 1760.9,1469.18 \n",
       "  \"/>\n",
       "<polyline clip-path=\"url(#clip380)\" style=\"stroke:#000000; stroke-width:4; stroke-opacity:1; fill:none\" points=\"\n",
       "  2289.34,1486.45 2289.34,1469.18 \n",
       "  \"/>\n",
       "<path clip-path=\"url(#clip380)\" d=\"M 0 0 M165.972 1543.18 L173.611 1543.18 L173.611 1516.82 L165.3 1518.49 L165.3 1514.23 L173.564 1512.56 L178.24 1512.56 L178.24 1543.18 L185.879 1543.18 L185.879 1547.12 L165.972 1547.12 L165.972 1543.18 Z\" fill=\"#000000\" fill-rule=\"evenodd\" fill-opacity=\"1\" /><path clip-path=\"url(#clip380)\" d=\"M 0 0 M698.681 1543.18 L715 1543.18 L715 1547.12 L693.056 1547.12 L693.056 1543.18 Q695.718 1540.43 700.301 1535.8 Q704.908 1531.15 706.088 1529.81 Q708.334 1527.28 709.213 1525.55 Q710.116 1523.79 710.116 1522.1 Q710.116 1519.34 708.172 1517.61 Q706.25 1515.87 703.149 1515.87 Q700.949 1515.87 698.496 1516.63 Q696.065 1517.4 693.287 1518.95 L693.287 1514.23 Q696.112 1513.09 698.565 1512.51 Q701.019 1511.93 703.056 1511.93 Q708.426 1511.93 711.621 1514.62 Q714.815 1517.31 714.815 1521.8 Q714.815 1523.93 714.005 1525.85 Q713.218 1527.74 711.111 1530.34 Q710.533 1531.01 707.431 1534.23 Q704.329 1537.42 698.681 1543.18 Z\" fill=\"#000000\" fill-rule=\"evenodd\" fill-opacity=\"1\" /><path clip-path=\"url(#clip380)\" d=\"M 0 0 M1236.71 1528.49 Q1240.07 1529.2 1241.95 1531.47 Q1243.84 1533.74 1243.84 1537.07 Q1243.84 1542.19 1240.33 1544.99 Q1236.81 1547.79 1230.33 1547.79 Q1228.15 1547.79 1225.83 1547.35 Q1223.54 1546.93 1221.09 1546.08 L1221.09 1541.56 Q1223.03 1542.7 1225.35 1543.28 Q1227.66 1543.86 1230.19 1543.86 Q1234.58 1543.86 1236.88 1542.12 Q1239.19 1540.38 1239.19 1537.07 Q1239.19 1534.02 1237.04 1532.31 Q1234.91 1530.57 1231.09 1530.57 L1227.06 1530.57 L1227.06 1526.73 L1231.27 1526.73 Q1234.72 1526.73 1236.55 1525.36 Q1238.38 1523.97 1238.38 1521.38 Q1238.38 1518.72 1236.48 1517.31 Q1234.61 1515.87 1231.09 1515.87 Q1229.17 1515.87 1226.97 1516.29 Q1224.77 1516.7 1222.13 1517.58 L1222.13 1513.42 Q1224.79 1512.68 1227.11 1512.31 Q1229.45 1511.93 1231.51 1511.93 Q1236.83 1511.93 1239.93 1514.37 Q1243.03 1516.77 1243.03 1520.89 Q1243.03 1523.76 1241.39 1525.75 Q1239.75 1527.72 1236.71 1528.49 Z\" fill=\"#000000\" fill-rule=\"evenodd\" fill-opacity=\"1\" /><path clip-path=\"url(#clip380)\" d=\"M 0 0 M1763.91 1516.63 L1752.11 1535.08 L1763.91 1535.08 L1763.91 1516.63 M1762.69 1512.56 L1768.57 1512.56 L1768.57 1535.08 L1773.5 1535.08 L1773.5 1538.97 L1768.57 1538.97 L1768.57 1547.12 L1763.91 1547.12 L1763.91 1538.97 L1748.31 1538.97 L1748.31 1534.46 L1762.69 1512.56 Z\" fill=\"#000000\" fill-rule=\"evenodd\" fill-opacity=\"1\" /><path clip-path=\"url(#clip380)\" d=\"M 0 0 M2279.62 1512.56 L2297.98 1512.56 L2297.98 1516.5 L2283.9 1516.5 L2283.9 1524.97 Q2284.92 1524.62 2285.94 1524.46 Q2286.96 1524.27 2287.98 1524.27 Q2293.76 1524.27 2297.14 1527.44 Q2300.52 1530.62 2300.52 1536.03 Q2300.52 1541.61 2297.05 1544.71 Q2293.58 1547.79 2287.26 1547.79 Q2285.08 1547.79 2282.82 1547.42 Q2280.57 1547.05 2278.16 1546.31 L2278.16 1541.61 Q2280.25 1542.74 2282.47 1543.3 Q2284.69 1543.86 2287.17 1543.86 Q2291.17 1543.86 2293.51 1541.75 Q2295.85 1539.64 2295.85 1536.03 Q2295.85 1532.42 2293.51 1530.31 Q2291.17 1528.21 2287.17 1528.21 Q2285.29 1528.21 2283.42 1528.62 Q2281.57 1529.04 2279.62 1529.92 L2279.62 1512.56 Z\" fill=\"#000000\" fill-rule=\"evenodd\" fill-opacity=\"1\" /><polyline clip-path=\"url(#clip382)\" style=\"stroke:#000000; stroke-width:2; stroke-opacity:0.1; fill:none\" points=\"\n",
       "  112.177,1445.72 2352.76,1445.72 \n",
       "  \"/>\n",
       "<polyline clip-path=\"url(#clip382)\" style=\"stroke:#000000; stroke-width:2; stroke-opacity:0.1; fill:none\" points=\"\n",
       "  112.177,1106.28 2352.76,1106.28 \n",
       "  \"/>\n",
       "<polyline clip-path=\"url(#clip382)\" style=\"stroke:#000000; stroke-width:2; stroke-opacity:0.1; fill:none\" points=\"\n",
       "  112.177,766.846 2352.76,766.846 \n",
       "  \"/>\n",
       "<polyline clip-path=\"url(#clip382)\" style=\"stroke:#000000; stroke-width:2; stroke-opacity:0.1; fill:none\" points=\"\n",
       "  112.177,427.411 2352.76,427.411 \n",
       "  \"/>\n",
       "<polyline clip-path=\"url(#clip382)\" style=\"stroke:#000000; stroke-width:2; stroke-opacity:0.1; fill:none\" points=\"\n",
       "  112.177,87.9763 2352.76,87.9763 \n",
       "  \"/>\n",
       "<polyline clip-path=\"url(#clip380)\" style=\"stroke:#000000; stroke-width:4; stroke-opacity:1; fill:none\" points=\"\n",
       "  112.177,1486.45 112.177,47.2441 \n",
       "  \"/>\n",
       "<polyline clip-path=\"url(#clip380)\" style=\"stroke:#000000; stroke-width:4; stroke-opacity:1; fill:none\" points=\"\n",
       "  112.177,1445.72 139.064,1445.72 \n",
       "  \"/>\n",
       "<polyline clip-path=\"url(#clip380)\" style=\"stroke:#000000; stroke-width:4; stroke-opacity:1; fill:none\" points=\"\n",
       "  112.177,1106.28 139.064,1106.28 \n",
       "  \"/>\n",
       "<polyline clip-path=\"url(#clip380)\" style=\"stroke:#000000; stroke-width:4; stroke-opacity:1; fill:none\" points=\"\n",
       "  112.177,766.846 139.064,766.846 \n",
       "  \"/>\n",
       "<polyline clip-path=\"url(#clip380)\" style=\"stroke:#000000; stroke-width:4; stroke-opacity:1; fill:none\" points=\"\n",
       "  112.177,427.411 139.064,427.411 \n",
       "  \"/>\n",
       "<polyline clip-path=\"url(#clip380)\" style=\"stroke:#000000; stroke-width:4; stroke-opacity:1; fill:none\" points=\"\n",
       "  112.177,87.9763 139.064,87.9763 \n",
       "  \"/>\n",
       "<path clip-path=\"url(#clip380)\" d=\"M 0 0 M56.2699 1459.06 L63.9087 1459.06 L63.9087 1432.69 L55.5986 1434.36 L55.5986 1430.1 L63.8624 1428.44 L68.5383 1428.44 L68.5383 1459.06 L76.1772 1459.06 L76.1772 1463 L56.2699 1463 L56.2699 1459.06 Z\" fill=\"#000000\" fill-rule=\"evenodd\" fill-opacity=\"1\" /><path clip-path=\"url(#clip380)\" d=\"M 0 0 M59.8578 1119.63 L76.1772 1119.63 L76.1772 1123.56 L54.2328 1123.56 L54.2328 1119.63 Q56.8949 1116.87 61.4782 1112.24 Q66.0846 1107.59 67.2652 1106.25 Q69.5105 1103.72 70.3902 1101.99 Q71.2929 1100.23 71.2929 1098.54 Q71.2929 1095.78 69.3485 1094.05 Q67.4272 1092.31 64.3254 1092.31 Q62.1263 1092.31 59.6726 1093.07 Q57.2421 1093.84 54.4643 1095.39 L54.4643 1090.67 Q57.2884 1089.53 59.7421 1088.95 Q62.1958 1088.38 64.2328 1088.38 Q69.6031 1088.38 72.7976 1091.06 Q75.992 1093.75 75.992 1098.24 Q75.992 1100.37 75.1818 1102.29 Q74.3948 1104.19 72.2883 1106.78 Q71.7096 1107.45 68.6078 1110.67 Q65.5059 1113.86 59.8578 1119.63 Z\" fill=\"#000000\" fill-rule=\"evenodd\" fill-opacity=\"1\" /><path clip-path=\"url(#clip380)\" d=\"M 0 0 M69.0476 765.492 Q72.404 766.209 74.279 768.478 Q76.1772 770.746 76.1772 774.08 Q76.1772 779.195 72.6587 781.996 Q69.1402 784.797 62.6587 784.797 Q60.4828 784.797 58.168 784.357 Q55.8764 783.941 53.4227 783.084 L53.4227 778.57 Q55.3671 779.705 57.6819 780.283 Q59.9967 780.862 62.5198 780.862 Q66.918 780.862 69.2096 779.126 Q71.5244 777.39 71.5244 774.08 Q71.5244 771.024 69.3717 769.311 Q67.242 767.575 63.4226 767.575 L59.3949 767.575 L59.3949 763.733 L63.6078 763.733 Q67.0569 763.733 68.8855 762.367 Q70.7142 760.978 70.7142 758.385 Q70.7142 755.723 68.8161 754.311 Q66.9411 752.876 63.4226 752.876 Q61.5013 752.876 59.3023 753.293 Q57.1032 753.709 54.4643 754.589 L54.4643 750.422 Q57.1264 749.682 59.4412 749.311 Q61.7791 748.941 63.8393 748.941 Q69.1633 748.941 72.2652 751.372 Q75.367 753.779 75.367 757.899 Q75.367 760.77 73.7235 762.76 Q72.08 764.728 69.0476 765.492 Z\" fill=\"#000000\" fill-rule=\"evenodd\" fill-opacity=\"1\" /><path clip-path=\"url(#clip380)\" d=\"M 0 0 M66.5939 414.205 L54.7884 432.654 L66.5939 432.654 L66.5939 414.205 M65.367 410.131 L71.2466 410.131 L71.2466 432.654 L76.1772 432.654 L76.1772 436.543 L71.2466 436.543 L71.2466 444.691 L66.5939 444.691 L66.5939 436.543 L50.9921 436.543 L50.9921 432.029 L65.367 410.131 Z\" fill=\"#000000\" fill-rule=\"evenodd\" fill-opacity=\"1\" /><path clip-path=\"url(#clip380)\" d=\"M 0 0 M55.2745 70.6963 L73.6309 70.6963 L73.6309 74.6314 L59.5569 74.6314 L59.5569 83.1036 Q60.5754 82.7564 61.5939 82.5944 Q62.6124 82.4092 63.6309 82.4092 Q69.418 82.4092 72.7976 85.5805 Q76.1772 88.7517 76.1772 94.1684 Q76.1772 99.747 72.705 102.849 Q69.2328 105.928 62.9134 105.928 Q60.7374 105.928 58.4689 105.557 Q56.2236 105.187 53.8162 104.446 L53.8162 99.747 Q55.8995 100.881 58.1217 101.437 Q60.3439 101.992 62.8208 101.992 Q66.8254 101.992 69.1633 99.8859 Q71.5013 97.7795 71.5013 94.1684 Q71.5013 90.5573 69.1633 88.4508 Q66.8254 86.3443 62.8208 86.3443 Q60.9458 86.3443 59.0708 86.761 Q57.2189 87.1777 55.2745 88.0573 L55.2745 70.6963 Z\" fill=\"#000000\" fill-rule=\"evenodd\" fill-opacity=\"1\" /><polyline clip-path=\"url(#clip382)\" style=\"stroke:#009af9; stroke-width:4; stroke-opacity:1; fill:none\" points=\"\n",
       "  175.59,1445.72 704.028,1106.28 1232.47,766.846 1760.9,427.411 2289.34,87.9763 \n",
       "  \"/>\n",
       "<path clip-path=\"url(#clip382)\" d=\"M175.59 1461.72 L161.734 1453.72 L161.734 1437.72 L175.59 1429.72 L189.446 1437.72 L189.446 1453.72 Z\" fill=\"#009af9\" fill-rule=\"evenodd\" fill-opacity=\"1\" stroke=\"#000000\" stroke-opacity=\"1\" stroke-width=\"3.2\"/>\n",
       "<path clip-path=\"url(#clip382)\" d=\"M704.028 1122.28 L690.172 1114.28 L690.172 1098.28 L704.028 1090.28 L717.884 1098.28 L717.884 1114.28 Z\" fill=\"#009af9\" fill-rule=\"evenodd\" fill-opacity=\"1\" stroke=\"#000000\" stroke-opacity=\"1\" stroke-width=\"3.2\"/>\n",
       "<path clip-path=\"url(#clip382)\" d=\"M1232.47 782.846 L1218.61 774.846 L1218.61 758.846 L1232.47 750.846 L1246.32 758.846 L1246.32 774.846 Z\" fill=\"#009af9\" fill-rule=\"evenodd\" fill-opacity=\"1\" stroke=\"#000000\" stroke-opacity=\"1\" stroke-width=\"3.2\"/>\n",
       "<path clip-path=\"url(#clip382)\" d=\"M1760.9 443.411 L1747.05 435.411 L1747.05 419.411 L1760.9 411.411 L1774.76 419.411 L1774.76 435.411 Z\" fill=\"#009af9\" fill-rule=\"evenodd\" fill-opacity=\"1\" stroke=\"#000000\" stroke-opacity=\"1\" stroke-width=\"3.2\"/>\n",
       "<path clip-path=\"url(#clip382)\" d=\"M2289.34 103.976 L2275.49 95.9763 L2275.49 79.9763 L2289.34 71.9763 L2303.2 79.9763 L2303.2 95.9763 Z\" fill=\"#009af9\" fill-rule=\"evenodd\" fill-opacity=\"1\" stroke=\"#000000\" stroke-opacity=\"1\" stroke-width=\"3.2\"/>\n",
       "<path clip-path=\"url(#clip380)\" d=\"\n",
       "M1978.1 216.178 L2278.07 216.178 L2278.07 95.2176 L1978.1 95.2176  Z\n",
       "  \" fill=\"#ffffff\" fill-rule=\"evenodd\" fill-opacity=\"1\"/>\n",
       "<polyline clip-path=\"url(#clip380)\" style=\"stroke:#000000; stroke-width:4; stroke-opacity:1; fill:none\" points=\"\n",
       "  1978.1,216.178 2278.07,216.178 2278.07,95.2176 1978.1,95.2176 1978.1,216.178 \n",
       "  \"/>\n",
       "<polyline clip-path=\"url(#clip380)\" style=\"stroke:#009af9; stroke-width:4; stroke-opacity:1; fill:none\" points=\"\n",
       "  2002.99,155.698 2152.37,155.698 \n",
       "  \"/>\n",
       "<path clip-path=\"url(#clip380)\" d=\"M2077.68 181.298 L2055.51 168.498 L2055.51 142.898 L2077.68 130.098 L2099.85 142.898 L2099.85 168.498 Z\" fill=\"#009af9\" fill-rule=\"evenodd\" fill-opacity=\"1\" stroke=\"#000000\" stroke-opacity=\"1\" stroke-width=\"5.12\"/>\n",
       "<path clip-path=\"url(#clip380)\" d=\"M 0 0 M2191.1 175.385 Q2189.3 180.015 2187.59 181.427 Q2185.87 182.839 2183 182.839 L2179.6 182.839 L2179.6 179.274 L2182.1 179.274 Q2183.86 179.274 2184.83 178.44 Q2185.8 177.607 2186.98 174.505 L2187.75 172.561 L2177.26 147.052 L2181.77 147.052 L2189.88 167.329 L2197.98 147.052 L2202.49 147.052 L2191.1 175.385 Z\" fill=\"#000000\" fill-rule=\"evenodd\" fill-opacity=\"1\" /><path clip-path=\"url(#clip380)\" d=\"M 0 0 M2208.37 169.042 L2216.01 169.042 L2216.01 142.677 L2207.7 144.343 L2207.7 140.084 L2215.96 138.418 L2220.64 138.418 L2220.64 169.042 L2228.28 169.042 L2228.28 172.978 L2208.37 172.978 L2208.37 169.042 Z\" fill=\"#000000\" fill-rule=\"evenodd\" fill-opacity=\"1\" /></svg>\n"
      ]
     },
     "execution_count": 98,
     "metadata": {},
     "output_type": "execute_result"
    }
   ],
   "source": [
    "eval(:(plot(1:5,1:5,marker=:hex)))"
   ]
  },
  {
   "cell_type": "code",
   "execution_count": 92,
   "metadata": {},
   "outputs": [
    {
     "data": {
      "text/plain": [
       ":($(Expr(:toplevel, :(using Plots), :(plot(1:5, (1:5) .^ 3)))))"
      ]
     },
     "execution_count": 92,
     "metadata": {},
     "output_type": "execute_result"
    }
   ],
   "source": [
    "Meta.parse(MyString)"
   ]
  },
  {
   "cell_type": "code",
   "execution_count": 114,
   "metadata": {},
   "outputs": [
    {
     "data": {
      "text/plain": [
       "BenchmarkTools.Trial: \n",
       "  memory estimate:  0 bytes\n",
       "  allocs estimate:  0\n",
       "  --------------\n",
       "  minimum time:     1.499 ns (0.00% GC)\n",
       "  median time:      1.600 ns (0.00% GC)\n",
       "  mean time:        1.583 ns (0.00% GC)\n",
       "  maximum time:     14.900 ns (0.00% GC)\n",
       "  --------------\n",
       "  samples:          10000\n",
       "  evals/sample:     1000"
      ]
     },
     "execution_count": 114,
     "metadata": {},
     "output_type": "execute_result"
    }
   ],
   "source": [
    "@benchmark hypot(3.0,4.0,5.0)"
   ]
  },
  {
   "cell_type": "code",
   "execution_count": 112,
   "metadata": {},
   "outputs": [
    {
     "data": {
      "text/plain": [
       "BenchmarkTools.Trial: \n",
       "  memory estimate:  0 bytes\n",
       "  allocs estimate:  0\n",
       "  --------------\n",
       "  minimum time:     1.499 ns (0.00% GC)\n",
       "  median time:      1.600 ns (0.00% GC)\n",
       "  mean time:        1.575 ns (0.00% GC)\n",
       "  maximum time:     15.100 ns (0.00% GC)\n",
       "  --------------\n",
       "  samples:          10000\n",
       "  evals/sample:     1000"
      ]
     },
     "execution_count": 112,
     "metadata": {},
     "output_type": "execute_result"
    }
   ],
   "source": [
    "@benchmark sqrt(3.0^2+4.0^2+5.0^2)"
   ]
  },
  {
   "cell_type": "code",
   "execution_count": 110,
   "metadata": {},
   "outputs": [
    {
     "name": "stdout",
     "output_type": "stream",
     "text": [
      "search: \u001b[0m\u001b[1mh\u001b[22m\u001b[0m\u001b[1my\u001b[22m\u001b[0m\u001b[1mp\u001b[22m\u001b[0m\u001b[1mo\u001b[22m\u001b[0m\u001b[1mt\u001b[22m C\u001b[0m\u001b[1mh\u001b[22molesk\u001b[0m\u001b[1my\u001b[22m\u001b[0m\u001b[1mP\u001b[22miv\u001b[0m\u001b[1mo\u001b[22m\u001b[0m\u001b[1mt\u001b[22med\n",
      "\n"
     ]
    },
    {
     "data": {
      "text/latex": [
       "\\begin{verbatim}\n",
       "hypot(x, y)\n",
       "\\end{verbatim}\n",
       "Compute the hypotenuse $\\sqrt{|x|^2+|y|^2}$ avoiding overflow and underflow.\n",
       "\n",
       "This code is an implementation of the algorithm described in: An Improved Algorithm for \\texttt{hypot(a,b)} by Carlos F. Borges The article is available online at ArXiv at the link   https://arxiv.org/abs/1904.09481\n",
       "\n",
       "\\section{Examples}\n",
       "\\begin{verbatim}\n",
       "julia> a = Int64(10)^10;\n",
       "\n",
       "julia> hypot(a, a)\n",
       "1.4142135623730951e10\n",
       "\n",
       "julia> √(a^2 + a^2) # a^2 overflows\n",
       "ERROR: DomainError with -2.914184810805068e18:\n",
       "sqrt will only return a complex result if called with a complex argument. Try sqrt(Complex(x)).\n",
       "Stacktrace:\n",
       "[...]\n",
       "\n",
       "julia> hypot(3, 4im)\n",
       "5.0\n",
       "\\end{verbatim}\n",
       "\\rule{\\textwidth}{1pt}\n",
       "\\begin{verbatim}\n",
       "hypot(x...)\n",
       "\\end{verbatim}\n",
       "Compute the hypotenuse $\\sqrt{\\sum |x_i|^2}$ avoiding overflow and underflow.\n",
       "\n",
       "\\section{Examples}\n",
       "\\begin{verbatim}\n",
       "julia> hypot(-5.7)\n",
       "5.7\n",
       "\n",
       "julia> hypot(3, 4im, 12.0)\n",
       "13.0\n",
       "\\end{verbatim}\n"
      ],
      "text/markdown": [
       "```\n",
       "hypot(x, y)\n",
       "```\n",
       "\n",
       "Compute the hypotenuse $\\sqrt{|x|^2+|y|^2}$ avoiding overflow and underflow.\n",
       "\n",
       "This code is an implementation of the algorithm described in: An Improved Algorithm for `hypot(a,b)` by Carlos F. Borges The article is available online at ArXiv at the link   https://arxiv.org/abs/1904.09481\n",
       "\n",
       "# Examples\n",
       "\n",
       "```jldoctest; filter = r\"Stacktrace:(\\n \\[[0-9]+\\].*)*\"\n",
       "julia> a = Int64(10)^10;\n",
       "\n",
       "julia> hypot(a, a)\n",
       "1.4142135623730951e10\n",
       "\n",
       "julia> √(a^2 + a^2) # a^2 overflows\n",
       "ERROR: DomainError with -2.914184810805068e18:\n",
       "sqrt will only return a complex result if called with a complex argument. Try sqrt(Complex(x)).\n",
       "Stacktrace:\n",
       "[...]\n",
       "\n",
       "julia> hypot(3, 4im)\n",
       "5.0\n",
       "```\n",
       "\n",
       "---\n",
       "\n",
       "```\n",
       "hypot(x...)\n",
       "```\n",
       "\n",
       "Compute the hypotenuse $\\sqrt{\\sum |x_i|^2}$ avoiding overflow and underflow.\n",
       "\n",
       "# Examples\n",
       "\n",
       "```jldoctest\n",
       "julia> hypot(-5.7)\n",
       "5.7\n",
       "\n",
       "julia> hypot(3, 4im, 12.0)\n",
       "13.0\n",
       "```\n"
      ],
      "text/plain": [
       "\u001b[36m  hypot(x, y)\u001b[39m\n",
       "\n",
       "  Compute the hypotenuse \u001b[35m\\sqrt{|x|^2+|y|^2}\u001b[39m avoiding overflow and underflow.\n",
       "\n",
       "  This code is an implementation of the algorithm described in: An Improved\n",
       "  Algorithm for \u001b[36mhypot(a,b)\u001b[39m by Carlos F. Borges The article is available online\n",
       "  at ArXiv at the link https://arxiv.org/abs/1904.09481\n",
       "\n",
       "\u001b[1m  Examples\u001b[22m\n",
       "\u001b[1m  ≡≡≡≡≡≡≡≡≡≡\u001b[22m\n",
       "\n",
       "\u001b[36m  julia> a = Int64(10)^10;\u001b[39m\n",
       "\u001b[36m  \u001b[39m\n",
       "\u001b[36m  julia> hypot(a, a)\u001b[39m\n",
       "\u001b[36m  1.4142135623730951e10\u001b[39m\n",
       "\u001b[36m  \u001b[39m\n",
       "\u001b[36m  julia> √(a^2 + a^2) # a^2 overflows\u001b[39m\n",
       "\u001b[36m  ERROR: DomainError with -2.914184810805068e18:\u001b[39m\n",
       "\u001b[36m  sqrt will only return a complex result if called with a complex argument. Try sqrt(Complex(x)).\u001b[39m\n",
       "\u001b[36m  Stacktrace:\u001b[39m\n",
       "\u001b[36m  [...]\u001b[39m\n",
       "\u001b[36m  \u001b[39m\n",
       "\u001b[36m  julia> hypot(3, 4im)\u001b[39m\n",
       "\u001b[36m  5.0\u001b[39m\n",
       "\n",
       "  ────────────────────────────────────────────────────────────────────────────\n",
       "\n",
       "\u001b[36m  hypot(x...)\u001b[39m\n",
       "\n",
       "  Compute the hypotenuse \u001b[35m\\sqrt{\\sum |x_i|^2}\u001b[39m avoiding overflow and underflow.\n",
       "\n",
       "\u001b[1m  Examples\u001b[22m\n",
       "\u001b[1m  ≡≡≡≡≡≡≡≡≡≡\u001b[22m\n",
       "\n",
       "\u001b[36m  julia> hypot(-5.7)\u001b[39m\n",
       "\u001b[36m  5.7\u001b[39m\n",
       "\u001b[36m  \u001b[39m\n",
       "\u001b[36m  julia> hypot(3, 4im, 12.0)\u001b[39m\n",
       "\u001b[36m  13.0\u001b[39m"
      ]
     },
     "execution_count": 110,
     "metadata": {},
     "output_type": "execute_result"
    }
   ],
   "source": [
    "?hypot"
   ]
  },
  {
   "cell_type": "code",
   "execution_count": 137,
   "metadata": {},
   "outputs": [],
   "source": [
    "mutable struct Charact\n",
    "    age::Int\n",
    "    fullname::String\n",
    "    attr::Array{Int64,1}\n",
    "end"
   ]
  },
  {
   "cell_type": "code",
   "execution_count": 138,
   "metadata": {},
   "outputs": [
    {
     "data": {
      "text/plain": [
       "Charact(15, \"Peter Amadeus Mozart\", [2, 2])"
      ]
     },
     "execution_count": 138,
     "metadata": {},
     "output_type": "execute_result"
    }
   ],
   "source": [
    "Peter=Charact(15,\"Peter Amadeus Mozart\",[2,2.])"
   ]
  },
  {
   "cell_type": "code",
   "execution_count": 140,
   "metadata": {},
   "outputs": [
    {
     "data": {
      "text/plain": [
       "2-element Array{Int64,1}:\n",
       " 1\n",
       " 1"
      ]
     },
     "execution_count": 140,
     "metadata": {},
     "output_type": "execute_result"
    }
   ],
   "source": [
    "Peter.attr=[1,1]"
   ]
  },
  {
   "cell_type": "code",
   "execution_count": 142,
   "metadata": {},
   "outputs": [
    {
     "data": {
      "text/plain": [
       "Array{Int64,1}"
      ]
     },
     "execution_count": 142,
     "metadata": {},
     "output_type": "execute_result"
    }
   ],
   "source": [
    "typeof([1,1])"
   ]
  },
  {
   "cell_type": "code",
   "execution_count": 146,
   "metadata": {},
   "outputs": [
    {
     "data": {
      "text/plain": [
       "Union{Float16, Int8, UInt8}"
      ]
     },
     "execution_count": 146,
     "metadata": {},
     "output_type": "execute_result"
    }
   ],
   "source": [
    "Minimal=Union{Float16,Int8,UInt8}"
   ]
  },
  {
   "cell_type": "code",
   "execution_count": 147,
   "metadata": {},
   "outputs": [
    {
     "data": {
      "text/plain": [
       "true"
      ]
     },
     "execution_count": 147,
     "metadata": {},
     "output_type": "execute_result"
    }
   ],
   "source": [
    "Int8 <: Minimal"
   ]
  },
  {
   "cell_type": "code",
   "execution_count": 169,
   "metadata": {},
   "outputs": [
    {
     "data": {
      "text/plain": [
       "Dict{String,Any} with 2 entries:\n",
       "  \"b\" => 2\n",
       "  \"a\" => 1"
      ]
     },
     "execution_count": 169,
     "metadata": {},
     "output_type": "execute_result"
    }
   ],
   "source": [
    "d = Dict{String,Any}(\"a\"=>1, \"b\"=>2)"
   ]
  },
  {
   "cell_type": "code",
   "execution_count": 170,
   "metadata": {},
   "outputs": [
    {
     "data": {
      "text/plain": [
       "4"
      ]
     },
     "execution_count": 170,
     "metadata": {},
     "output_type": "execute_result"
    }
   ],
   "source": [
    "d[\"c\"]=4"
   ]
  },
  {
   "cell_type": "code",
   "execution_count": 173,
   "metadata": {},
   "outputs": [
    {
     "data": {
      "text/plain": [
       "\"waswas\""
      ]
     },
     "execution_count": 173,
     "metadata": {},
     "output_type": "execute_result"
    }
   ],
   "source": [
    "d[\"a\"]=\"waswas\""
   ]
  },
  {
   "cell_type": "code",
   "execution_count": 175,
   "metadata": {},
   "outputs": [
    {
     "data": {
      "text/plain": [
       "Dict{Int64,String} with 2 entries:\n",
       "  2 => \"Dexterity\"\n",
       "  1 => \"Strength\""
      ]
     },
     "execution_count": 175,
     "metadata": {},
     "output_type": "execute_result"
    }
   ],
   "source": [
    "attr=Dict(1=>\"Strength\",2=>\"Dexterity\")"
   ]
  },
  {
   "cell_type": "code",
   "execution_count": 178,
   "metadata": {},
   "outputs": [
    {
     "ename": "LoadError",
     "evalue": "MethodError: no method matching Array(::Dict{Int64,String})\nClosest candidates are:\n  Array(!Matched::SymTridiagonal) at D:\\buildbot\\worker\\package_win64\\build\\usr\\share\\julia\\stdlib\\v1.5\\LinearAlgebra\\src\\tridiag.jl:142\n  Array(!Matched::Tridiagonal) at D:\\buildbot\\worker\\package_win64\\build\\usr\\share\\julia\\stdlib\\v1.5\\LinearAlgebra\\src\\tridiag.jl:583\n  Array(!Matched::LinearAlgebra.AbstractTriangular) at D:\\buildbot\\worker\\package_win64\\build\\usr\\share\\julia\\stdlib\\v1.5\\LinearAlgebra\\src\\triangular.jl:157\n  ...",
     "output_type": "error",
     "traceback": [
      "MethodError: no method matching Array(::Dict{Int64,String})\nClosest candidates are:\n  Array(!Matched::SymTridiagonal) at D:\\buildbot\\worker\\package_win64\\build\\usr\\share\\julia\\stdlib\\v1.5\\LinearAlgebra\\src\\tridiag.jl:142\n  Array(!Matched::Tridiagonal) at D:\\buildbot\\worker\\package_win64\\build\\usr\\share\\julia\\stdlib\\v1.5\\LinearAlgebra\\src\\tridiag.jl:583\n  Array(!Matched::LinearAlgebra.AbstractTriangular) at D:\\buildbot\\worker\\package_win64\\build\\usr\\share\\julia\\stdlib\\v1.5\\LinearAlgebra\\src\\triangular.jl:157\n  ...",
      "",
      "Stacktrace:",
      " [1] top-level scope at In[178]:1",
      " [2] include_string(::Function, ::Module, ::String, ::String) at .\\loading.jl:1091",
      " [3] execute_code(::String, ::String) at C:\\Users\\steff\\.julia\\packages\\IJulia\\rWZ9e\\src\\execute_request.jl:27",
      " [4] execute_request(::ZMQ.Socket, ::IJulia.Msg) at C:\\Users\\steff\\.julia\\packages\\IJulia\\rWZ9e\\src\\execute_request.jl:86",
      " [5] #invokelatest#1 at .\\essentials.jl:710 [inlined]",
      " [6] invokelatest at .\\essentials.jl:709 [inlined]",
      " [7] eventloop(::ZMQ.Socket) at C:\\Users\\steff\\.julia\\packages\\IJulia\\rWZ9e\\src\\eventloop.jl:8",
      " [8] (::IJulia.var\"#15#18\")() at .\\task.jl:356"
     ]
    }
   ],
   "source": [
    "Array(attr)"
   ]
  },
  {
   "cell_type": "code",
   "execution_count": 235,
   "metadata": {},
   "outputs": [
    {
     "data": {
      "text/plain": [
       "f (generic function with 1 method)"
      ]
     },
     "execution_count": 235,
     "metadata": {},
     "output_type": "execute_result"
    }
   ],
   "source": [
    "function f(x)\n",
    "    x *= 2\n",
    "    y = rand(3)\n",
    "    @infiltrate\n",
    "    x += 2\n",
    "end"
   ]
  },
  {
   "cell_type": "code",
   "execution_count": 236,
   "metadata": {},
   "outputs": [
    {
     "name": "stdout",
     "output_type": "stream",
     "text": [
      "Infiltrator.jl needs a proper Julia REPL.\n"
     ]
    },
    {
     "data": {
      "text/plain": [
       "22"
      ]
     },
     "execution_count": 236,
     "metadata": {},
     "output_type": "execute_result"
    }
   ],
   "source": [
    "f(10)"
   ]
  },
  {
   "cell_type": "code",
   "execution_count": 207,
   "metadata": {},
   "outputs": [
    {
     "data": {
      "text/plain": [
       "2×3 Array{Int64,2}:\n",
       " 1  2  3\n",
       " 4  5  6"
      ]
     },
     "execution_count": 207,
     "metadata": {},
     "output_type": "execute_result"
    }
   ],
   "source": [
    "[1 2 3;4 5 6]"
   ]
  },
  {
   "cell_type": "code",
   "execution_count": 208,
   "metadata": {},
   "outputs": [
    {
     "ename": "LoadError",
     "evalue": "syntax: unexpected semicolon in array expression around In[208]:1",
     "output_type": "error",
     "traceback": [
      "syntax: unexpected semicolon in array expression around In[208]:1",
      "",
      "Stacktrace:",
      " [1] top-level scope at In[208]:1",
      " [2] include_string(::Function, ::Module, ::String, ::String) at .\\loading.jl:1091",
      " [3] execute_code(::String, ::String) at C:\\Users\\steff\\.julia\\packages\\IJulia\\rWZ9e\\src\\execute_request.jl:27",
      " [4] execute_request(::ZMQ.Socket, ::IJulia.Msg) at C:\\Users\\steff\\.julia\\packages\\IJulia\\rWZ9e\\src\\execute_request.jl:86",
      " [5] #invokelatest#1 at .\\essentials.jl:710 [inlined]",
      " [6] invokelatest at .\\essentials.jl:709 [inlined]",
      " [7] eventloop(::ZMQ.Socket) at C:\\Users\\steff\\.julia\\packages\\IJulia\\rWZ9e\\src\\eventloop.jl:8",
      " [8] (::IJulia.var\"#15#18\")() at .\\task.jl:356"
     ]
    }
   ],
   "source": [
    "[1,2,3;4,5,6]"
   ]
  },
  {
   "cell_type": "code",
   "execution_count": 211,
   "metadata": {},
   "outputs": [
    {
     "data": {
      "text/plain": [
       "6-element Array{Int64,1}:\n",
       " 1\n",
       " 2\n",
       " 3\n",
       " 4\n",
       " 5\n",
       " 6"
      ]
     },
     "execution_count": 211,
     "metadata": {},
     "output_type": "execute_result"
    }
   ],
   "source": [
    "[[1,2,3];[4,5,6]]"
   ]
  },
  {
   "cell_type": "code",
   "execution_count": 212,
   "metadata": {},
   "outputs": [
    {
     "data": {
      "text/plain": [
       "2×3 Array{Int64,2}:\n",
       " 1  2  3\n",
       " 4  5  6"
      ]
     },
     "execution_count": 212,
     "metadata": {},
     "output_type": "execute_result"
    }
   ],
   "source": [
    "[[1 2 3];[4 5 6]]"
   ]
  },
  {
   "cell_type": "code",
   "execution_count": 227,
   "metadata": {},
   "outputs": [
    {
     "data": {
      "text/plain": [
       "3×1 Transpose{Int64,Array{Int64,2}}:\n",
       " 1\n",
       " 2\n",
       " 3"
      ]
     },
     "execution_count": 227,
     "metadata": {},
     "output_type": "execute_result"
    }
   ],
   "source": [
    "Transpose([1 2 3])"
   ]
  },
  {
   "cell_type": "code",
   "execution_count": 226,
   "metadata": {},
   "outputs": [
    {
     "data": {
      "text/plain": [
       "1×3 Transpose{Int64,Array{Int64,1}}:\n",
       " 1  2  3"
      ]
     },
     "execution_count": 226,
     "metadata": {},
     "output_type": "execute_result"
    }
   ],
   "source": [
    "transpose([1,2,3])"
   ]
  },
  {
   "cell_type": "code",
   "execution_count": 228,
   "metadata": {},
   "outputs": [
    {
     "data": {
      "text/plain": [
       "1×3 Adjoint{Int64,Array{Int64,1}}:\n",
       " 1  2  3"
      ]
     },
     "execution_count": 228,
     "metadata": {},
     "output_type": "execute_result"
    }
   ],
   "source": [
    "[1;2;3]'"
   ]
  },
  {
   "cell_type": "code",
   "execution_count": 191,
   "metadata": {},
   "outputs": [
    {
     "data": {
      "text/plain": [
       "28657"
      ]
     },
     "execution_count": 191,
     "metadata": {},
     "output_type": "execute_result"
    }
   ],
   "source": [
    "(BigInt[1 1; 1 0]^23)[2,1]"
   ]
  },
  {
   "cell_type": "code",
   "execution_count": 201,
   "metadata": {},
   "outputs": [
    {
     "data": {
      "text/plain": [
       "2×2 Array{Int64,2}:\n",
       " 46368  28657\n",
       " 28657  17711"
      ]
     },
     "execution_count": 201,
     "metadata": {},
     "output_type": "execute_result"
    }
   ],
   "source": [
    "Int[1 1; 1 0]^23"
   ]
  },
  {
   "cell_type": "code",
   "execution_count": 186,
   "metadata": {},
   "outputs": [
    {
     "name": "stderr",
     "output_type": "stream",
     "text": [
      "\u001b[32m\u001b[1m  Resolving\u001b[22m\u001b[39m package versions...\n",
      "\u001b[32m\u001b[1m  Installed\u001b[22m\u001b[39m Infiltrator ─ v0.3.0\n",
      "\u001b[32m\u001b[1mUpdating\u001b[22m\u001b[39m `C:\\Users\\steff\\.julia\\environments\\v1.5\\Project.toml`\n",
      " \u001b[90m [5903a43b] \u001b[39m\u001b[92m+ Infiltrator v0.3.0\u001b[39m\n",
      "\u001b[32m\u001b[1mUpdating\u001b[22m\u001b[39m `C:\\Users\\steff\\.julia\\environments\\v1.5\\Manifest.toml`\n",
      " \u001b[90m [5903a43b] \u001b[39m\u001b[92m+ Infiltrator v0.3.0\u001b[39m\n"
     ]
    }
   ],
   "source": [
    "Pkg.add(\"Infiltrator\")"
   ]
  },
  {
   "cell_type": "code",
   "execution_count": 187,
   "metadata": {},
   "outputs": [
    {
     "name": "stderr",
     "output_type": "stream",
     "text": [
      "┌ Info: Precompiling Infiltrator [5903a43b-9cc3-4c30-8d17-598619ec4e9b]\n",
      "└ @ Base loading.jl:1278\n"
     ]
    }
   ],
   "source": [
    "using Infiltrator"
   ]
  }
 ],
 "metadata": {
  "kernelspec": {
   "display_name": "Julia 1.5.2",
   "language": "julia",
   "name": "julia-1.5"
  },
  "language_info": {
   "file_extension": ".jl",
   "mimetype": "application/julia",
   "name": "julia",
   "version": "1.5.2"
  }
 },
 "nbformat": 4,
 "nbformat_minor": 4
}
