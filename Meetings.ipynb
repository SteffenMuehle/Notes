{
 "cells": [
  {
   "cell_type": "markdown",
   "metadata": {},
   "source": [
    "## Meeting with Knut\n",
    "01.12.2020\n",
    "- PoSS uses RocketChat, GitLab, Zotero, ownCloud and MatSim\n",
    "- group seminar Wednesdays 15:30, alternating between progress reports and journal clubs\n",
    "- keywords: mobility, minimum fleet problem (Strogatz), shareability\n",
    "- authors: Strogatz, Timme, Molkenthin, Alonso Morat\n",
    "- mobility people: in PoSS: Helge+David (Master), Puneet (PhD). in MPIDS: Tariq. Previous (Master students): Michael Sternbach, Felix Jung"
   ]
  },
  {
   "cell_type": "markdown",
   "metadata": {},
   "source": [
    "## PoSS group meeting\n",
    "02.12.2020: Thermodynamics of Information: https://www.nature.com/articles/nphys3230/\n",
    "- Maxwell's demon + Szillard engine\n",
    "- Prakhar made good point: feedback+memory-system are physically coupled systems interacting with the system.\\\n",
    "It's thus not that weird that actual work can be extracted from ensemble-view-stuff.\n",
    "- key word: Kolmogorov complexity"
   ]
  },
  {
   "cell_type": "markdown",
   "metadata": {},
   "source": [
    "## Designing the Morphology of Separated Phases in Multicomponent Liquid Mixtures\n",
    "09.12.2020: MPIDS-Colloq\\\n",
    "Prof. Dr. Andrej Kosmrlj\n",
    "\n",
    "- mixing of multicomponent liquids\n",
    "- predict outcome based on free energy density function\n",
    "- relative concentrations: Flory-Huggins model\n",
    "- morphology/dynamics: Cohn Hilliard formalism\n",
    "- reverse engineer desired mixture by choosing components satisfying appropriate surface tension inequalities"
   ]
  },
  {
   "cell_type": "markdown",
   "metadata": {},
   "source": [
    "## Nanomachines at work: atomistic simulations of bimolecular systems\n",
    "09.12.2020: Hertha Sponer College Lecture Series\\\n",
    "Prof. Dr. Helmut Grubmüller\n",
    "\n",
    "- Other than usual models, MD force fields are pre-parametrized using other experimental data than the current application\n",
    "- 50-100 parameters in a force field\n",
    "- unfortunately, commonly used force fields give a factor-2-different radius of gyration for some IDPs\n",
    "- polarization of single atoms may be included in the force fields in the future to make them more accurate"
   ]
  },
  {
   "cell_type": "markdown",
   "metadata": {},
   "source": [
    "## Meeting with Helge\n",
    "14.12.2020\n",
    "- MFT-paper is in fact the basis for most theory\n",
    "- he simulates traffic networks using 'MatSim', a Java-based modular software from ETH-Zürich+TU-Berlin\n",
    "- previous simulations in our group were Python-based and related to the PhD thesis of Andreas Sorge and the Master thesis of Felix Jung\n",
    "- the route-customer-assignment algorithm is also called the 'dispatch' algorithm"
   ]
  },
  {
   "cell_type": "markdown",
   "metadata": {},
   "source": [
    "## Active Nematics: A theorist's overview\n",
    "15.12.2020: LMP seminar\\\n",
    "Prof. Dr. Aparna Baskaran\n",
    "\n",
    "- active material = material that is made of microscopic engines + local interactions between them\n",
    "- split rods + fluid = suspension variables. suspension momentum preserved\n",
    "- alignment approach: Ginzburg Landau approach (free energy)\n",
    "- rod effect on fluid flow enters Navier-Stokes via extra stress tensor component\n",
    "- due to buckling istabilities of aligned bunches of rods, 'defects' occur"
   ]
  },
  {
   "cell_type": "markdown",
   "metadata": {},
   "source": [
    "## Information processing, individuality and self-organization in migratinggroups of bacteria\n",
    "16.12.2020: MPIDS colloq\\\n",
    "Prof. Dr. Thierry Emonet\n",
    "\n",
    "- chemotaxis of E.Coli - run+tumble\n",
    "- how well does cell's swimming behaviour respond to chemical signal (attractant)?\n",
    "- there is a theoretical bound on systematic drift speed in terms of swimming speed\n",
    "- they use (\"information rate\") only a few percent of one bit (which is what they'd need to certainly know if they're going the right direction\\\n",
    "=> they need many runs to figure stuff out\n",
    "- cool effect: signal wave more steep in middle than at front\\\n",
    "=> better chemotaxers (faster) at front of wave where gradient is low (makes them slower. meanwhile shitty chemotaxers have it easier in the middle of the wave\\\n",
    "=> swarm stays together"
   ]
  },
  {
   "cell_type": "markdown",
   "metadata": {},
   "source": [
    "## PoSS group meeting\n",
    "16.12.2020: progress report David\n",
    "\n",
    "- Gauss Bonet theorem (smooth case)\n",
    "- Euler characteristic\n",
    "- travel time is a power law of as-the-bird-flies-distance, with exponent $\\approx$ 0.8"
   ]
  },
  {
   "cell_type": "markdown",
   "metadata": {},
   "source": [
    "## Chemotaxis of cargo-carrying self-propelled particles\n",
    "18.12.2020: DCF seminar\n",
    "Hidde Vuijk\n",
    "\n",
    "- active particles: source of dissipation =/= source of energy input\\\n",
    "=> no FDT!\n",
    "- chemotaxis of active particles: speed $\\propto$ chemical\n",
    "- thus antichemotaxis\n",
    "- with load: chemotaxis. polymer too."
   ]
  },
  {
   "cell_type": "markdown",
   "metadata": {},
   "source": [
    "## Bimodal meeting\n",
    "13.01.2021:\n",
    "\n",
    "- Puneet is working on a theory of bimodal transport: ride-sharing buses + trams\n",
    "- trams operate on a square grid\n",
    "- buses operate in between (Cartesian plane)\n",
    "- buses bring passengers to tram start and then from tram start to destination like\\\n",
    "A --bus--> B --tram--> C --bus--> D\n",
    "- axiom that trams are fully used (working at full capacity) determines optimal tram grid size\n",
    "- convenience criterion: people take fastest option -> cut off length above which bimodal is faster than DRT\n",
    "- quality criterion: carbon footprint bimodal vs. private car used as optimizable function\n",
    "- DRT random walk with tram station as fixed goal is different from free MFT random walk\n",
    "---\n",
    "Stephan:\n",
    "- idea: minimal bimodal situation: bus goes from one tram station to the next instead of just considering one\n",
    "- model square with stations on edges.. diagonal bus routes?"
   ]
  },
  {
   "cell_type": "markdown",
   "metadata": {},
   "source": [
    "## PoSS group meeting\n",
    "13.01.2021\n",
    "\n",
    "paper:  Optimal high-level descriptions of dynamical systems https://arxiv.org/pdf/1409.7403.pdf\n",
    "- a systematic way for finding coarse grainings/macrostate descriptions of dynamical (microstate) systems\n",
    "- higher level dynamics reproduce observables of choice with controllable accuracy vs. computational effort\n",
    "- coordinate trafo found as minimum of a function(al) which is complicated to optimize\n",
    "- in principle: this yields a systematic approach of finding \"good coords\" instead of just choosing some based on human intuition"
   ]
  },
  {
   "cell_type": "markdown",
   "metadata": {},
   "source": [
    "## Mobility meeting\n",
    "18.01.2021\\\n",
    "\n",
    "I gave a \"talk\" about the \n",
    "- ellipse-area-exploration\n",
    "- ellipse-consistent random walks\n",
    "- flexibility / persistence length related to detours"
   ]
  },
  {
   "cell_type": "markdown",
   "metadata": {},
   "source": [
    "## Meeting with Knut\n",
    "20.01.2021\n",
    "- I'll help supervise Puneet's PhD"
   ]
  },
  {
   "cell_type": "markdown",
   "metadata": {},
   "source": [
    "## MPI-DS colloq\n",
    "20.01.2021: The stochastic thermodynamics of computation Prof. Dr. David Wolpert\n",
    "- key words: Kolmogorov complexity, Turing theory\n",
    "- logical reversibility (smth to do with dynamics of states) vs. thermodynamic reversibility (smth to do with dynamics of prob distros) reversibility\n",
    "- paper: \"the stochastic thermodynamics of comoutation\"\n",
    "- paper recommended by speaker: sagawa J.Stat.Mech 2014 \"..revisited..\""
   ]
  }
 ],
 "metadata": {
  "kernelspec": {
   "display_name": "Julia 1.5.3",
   "language": "julia",
   "name": "julia-1.5"
  },
  "language_info": {
   "file_extension": ".jl",
   "mimetype": "application/julia",
   "name": "julia",
   "version": "1.5.3"
  }
 },
 "nbformat": 4,
 "nbformat_minor": 4
}
