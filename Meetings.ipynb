{
 "cells": [
  {
   "cell_type": "markdown",
   "metadata": {},
   "source": [
    "### Designing the Morphology of Separated Phases in Multicomponent Liquid Mixtures\n",
    "09-12-2020\n",
    "MPIDS-Colloq\n",
    "Prof. Dr. Andrej Kosmrlj\n",
    "\n",
    "- mixing of multicomponent liquids\n",
    "- predict outcome based on free energy density function\n",
    "- relative concentrations: Flory-Huggins model\n",
    "- morphology/dynamics: Cohn Hilliard formalism\n",
    "- reverse engineer desired mixture by choosing components satisfying appropriate surface tension inequalities"
   ]
  }
 ],
 "metadata": {
  "kernelspec": {
   "display_name": "Julia 1.5.3",
   "language": "julia",
   "name": "julia-1.5"
  },
  "language_info": {
   "file_extension": ".jl",
   "mimetype": "application/julia",
   "name": "julia",
   "version": "1.5.3"
  }
 },
 "nbformat": 4,
 "nbformat_minor": 4
}
