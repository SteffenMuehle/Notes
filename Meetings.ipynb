{
 "cells": [
  {
   "cell_type": "markdown",
   "metadata": {},
   "source": [
    "## Meeting with Knut\n",
    "01.12.2020\n",
    "- PoSS uses RocketChat, GitLab, Zotero, ownCloud and MatSim\n",
    "- group seminar Wednesdays 15:30, alternating between progress reports and journal clubs\n",
    "- keywords: mobility, minimum fleet problem (Strogatz), shareability\n",
    "- authors: Strogatz, Timme, Molkenthin, Alonso Morat\n",
    "- mobility people: in PoSS: Helge+David (Master), Puneet (PhD). in MPIDS: Tariq. Previous (Master students): Michael Sternbach, Felix Jung"
   ]
  },
  {
   "cell_type": "markdown",
   "metadata": {},
   "source": [
    "## PoSS group meeting\n",
    "02.12.2020: Thermodynamics of Information: https://www.nature.com/articles/nphys3230/\n",
    "- Maxwell's demon + Szillard engine\n",
    "- Prakhar made good point: feedback+memory-system are physically coupled systems interacting with the system.\\\n",
    "It's thus not that weird that actual work can be extracted from ensemble-view-stuff.\n",
    "- key word: Kolmogorov complexity"
   ]
  },
  {
   "cell_type": "markdown",
   "metadata": {},
   "source": [
    "## Designing the Morphology of Separated Phases in Multicomponent Liquid Mixtures\n",
    "09.12.2020: MPIDS-Colloq\\\n",
    "Prof. Dr. Andrej Kosmrlj\n",
    "\n",
    "- mixing of multicomponent liquids\n",
    "- predict outcome based on free energy density function\n",
    "- relative concentrations: Flory-Huggins model\n",
    "- morphology/dynamics: Cohn Hilliard formalism\n",
    "- reverse engineer desired mixture by choosing components satisfying appropriate surface tension inequalities"
   ]
  },
  {
   "cell_type": "markdown",
   "metadata": {},
   "source": [
    "## Nanomachines at work: atomistic simulations of bimolecular systems\n",
    "09.12.2020: Hertha Sponer College Lecture Series\\\n",
    "Prof. Dr. Helmut Grubmüller\n",
    "\n",
    "- Other than usual models, MD force fields are pre-parametrized using other experimental data than the current application\n",
    "- 50-100 parameters in a force field\n",
    "- unfortunately, commonly used force fields give a factor-2-different radius of gyration for some IDPs\n",
    "- polarization of single atoms may be included in the force fields in the future to make them more accurate"
   ]
  },
  {
   "cell_type": "markdown",
   "metadata": {},
   "source": [
    "## Meeting with Helge\n",
    "14.12.2020\n",
    "- MFT-paper is in fact the basis for most theory\n",
    "- he simulates traffic networks using 'MatSim', a Java-based modular software from ETH-Zürich+TU-Berlin\n",
    "- previous simulations in our group were Python-based and related to the PhD thesis of Andreas Sorge and the Master tthesis of Felix Jung\n",
    "- the route-customer-assignment algorithm is also called the 'dispatch' algorithm"
   ]
  },
  {
   "cell_type": "markdown",
   "metadata": {},
   "source": [
    "## Active Nematics: A theorist's overview\n",
    "15.12.2020: LMP seminar\\\n",
    "Prof. Dr. Aparna Baskaran\n",
    "\n",
    "- active material = material that is made of microscopic engines + local interactions between them\n",
    "- split rods + fluid = suspension variables. suspension momentum preserved\n",
    "- alignment approach: Ginzburg Landau approach (free energy)\n",
    "- rod effect on fluid flow enters Navier-Stokes via extra stress tensor component\n",
    "- due to buckling istabilities of aligned bunches of rods, 'defects' occur"
   ]
  }
 ],
 "metadata": {
  "kernelspec": {
   "display_name": "Julia 1.5.3",
   "language": "julia",
   "name": "julia-1.5"
  },
  "language_info": {
   "file_extension": ".jl",
   "mimetype": "application/julia",
   "name": "julia",
   "version": "1.5.3"
  }
 },
 "nbformat": 4,
 "nbformat_minor": 4
}
