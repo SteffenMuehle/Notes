{
 "cells": [
  {
   "cell_type": "markdown",
   "metadata": {},
   "source": [
    "# Git(hub)\n",
    "---\n",
    "#### Table of Contents:\n",
    "\n",
    "[resources](#resources)\\\n",
    "[Principle](#Principle)\\\n",
    "[SSH](#SSH)\\\n",
    "[config](#config)\\\n",
    "[clone](#clone)\\\n",
    "[commit history](#commit-history)\\\n",
    "[Commands](#Commands)"
   ]
  },
  {
   "cell_type": "markdown",
   "metadata": {},
   "source": [
    "# resources\n",
    "\n",
    "- this youtube video: https://www.youtube.com/watch?v=RGOj5yH7evk\n",
    "- the official GitHub guide https://guides.github.com/activities/hello-world/\n",
    "- David Mahler 1: https://www.youtube.com/watch?v=uR6G2v_WsRA\n",
    "- David Mahler 2: https://www.youtube.com/watch?v=FyAAIHHClqI\n",
    "- David Mahler 3: https://www.youtube.com/watch?v=Gg4bLk8cGNo\n",
    "- Visual Git Reference: https://marklodato.github.io/visual-git-guide/index-en.html"
   ]
  },
  {
   "cell_type": "markdown",
   "metadata": {},
   "source": [
    "# Principle\n",
    "\n",
    "<img src=\"git1.png\" width=\"500\"/>"
   ]
  },
  {
   "cell_type": "markdown",
   "metadata": {},
   "source": [
    "# SSH\n",
    "\n",
    "locally generate key pair\n",
    "> ssh-keygen -t rsa -b 4096 -C \"steffen_muehle@gmx.de\"\n",
    "\n",
    "then add the key in ~/.ssh/id_rsa.pub to GitHub"
   ]
  },
  {
   "cell_type": "markdown",
   "metadata": {},
   "source": [
    "# git config\n",
    "--local for this repo\\\n",
    "--global for this machine\n",
    "\n",
    "> git config --local user.name \"SteffenLaptop\"\\\n",
    " git config --local user.email \"steffen_muehle@gmx.de\""
   ]
  },
  {
   "cell_type": "markdown",
   "metadata": {},
   "source": [
    "# git clone\n",
    "downloads remote repo and creates new folder locally with its name\n",
    "\n",
    "> git clone git@github.com:SteffenMuehle/PenAndPaper"
   ]
  },
  {
   "cell_type": "markdown",
   "metadata": {},
   "source": [
    "# git add\n",
    "stages stuff\n",
    "\n",
    "> git add *\n",
    "> git add myFile"
   ]
  },
  {
   "cell_type": "markdown",
   "metadata": {},
   "source": [
    "# git diff\n",
    "shows differences between files in working directory and staging area:\n",
    "> git diff\n",
    "\n",
    "shows differences between staging area and most recent commit:\n",
    "> git diff --staged"
   ]
  },
  {
   "cell_type": "markdown",
   "metadata": {},
   "source": [
    "# commit history\n",
    "a convenient custom command showing the repo's commit history\n",
    "\n",
    "> alias graph='git log --all --decorate --oneline --graph'\\\n",
    "> graph\n",
    "\n",
    "or make it come after \"git\":\n",
    "\n",
    "> git config --global alias.graph \"log --oneline --graph --decorate --all\"\\\n",
    "git config --global alias.MYCOMMANDNAME \"STUFF THAT COMES AFTER GIT\""
   ]
  },
  {
   "cell_type": "markdown",
   "metadata": {},
   "source": [
    "# git status\n",
    "shows you what's going on right now\n",
    "\n",
    "> git status"
   ]
  },
  {
   "cell_type": "markdown",
   "metadata": {},
   "source": [
    "# git commit\n",
    "save changes to repo. By default, text editor is opened for you to write your commit message (multiline).\n",
    "-m option is a manual short message.\n",
    "-a skips the staging part and directly commits all tracked changes.\n",
    "\n",
    "      git commit -m \"This is my commit message\"\n",
    "      git commit\n",
    "      git commit -am \"I did THIS. quick commit.\""
   ]
  },
  {
   "cell_type": "markdown",
   "metadata": {},
   "source": [
    "# git push\n",
    "\n",
    "upload repo (branch 'main') to Github (origin)\n",
    "> git push origin main"
   ]
  },
  {
   "cell_type": "markdown",
   "metadata": {},
   "source": [
    "# git merge\n",
    "\n",
    "upload repo (branch 'main') to Github (origin)\n",
    "> git push origin main"
   ]
  },
  {
   "cell_type": "markdown",
   "metadata": {},
   "source": [
    "# git reset\n",
    "replace file version in staging area with that in a commit\n",
    "> git reset HEAD myFile"
   ]
  },
  {
   "cell_type": "markdown",
   "metadata": {},
   "source": [
    "# git checkout\n",
    "replace file version in working directory with that in staging area\n",
    "> git checkout -- myFile\n",
    "\n",
    "replace file version in working directory AND staging area with that in the commit 23r4a:\n",
    "> git checkout 23r4a -- myFile"
   ]
  },
  {
   "cell_type": "markdown",
   "metadata": {},
   "source": [
    "# git init\n",
    "start version control (create repo) of some local folder\n",
    "\n",
    "      git init ~/project"
   ]
  },
  {
   "cell_type": "markdown",
   "metadata": {},
   "source": [
    "# git help\n",
    "git's internal manual pages\n",
    "\n",
    "> git help log\\\n",
    "git help add\\\n",
    "git help commit"
   ]
  },
  {
   "cell_type": "markdown",
   "metadata": {},
   "source": [
    "# git show\n",
    "show changes made in last commit\n",
    "\n",
    "      git show"
   ]
  }
 ],
 "metadata": {
  "kernelspec": {
   "display_name": "Julia 1.5.2",
   "language": "julia",
   "name": "julia-1.5"
  },
  "language_info": {
   "file_extension": ".jl",
   "mimetype": "application/julia",
   "name": "julia",
   "version": "1.5.2"
  }
 },
 "nbformat": 4,
 "nbformat_minor": 4
}
