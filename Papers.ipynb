{
 "cells": [
  {
   "cell_type": "markdown",
   "metadata": {},
   "source": [
    "# Papers\n",
    "---\n",
    "#### Table of Contents:\n",
    "\n",
    "[Mean field theory of demand responsive ride pooling systems](#Mean-field-theory-of-demand-responsive-ride-pooling-systems)\\\n",
    "[item name](#item-name)\n",
    "\n",
    "---"
   ]
  },
  {
   "cell_type": "markdown",
   "metadata": {},
   "source": [
    "# Mean field theory of demand responsive ride pooling systems\n",
    "S. Herminghaus, 2019\n",
    "\n",
    "### Introduction\n",
    "- private cars suck\n",
    "- DRRP supposed to be door-to-door\n",
    "- mobility problem not just urban, but also rural\n",
    "- goal: identify parameters describing DRRP's environment + find analytic expressions predicting DRRP's performance\n",
    "\n",
    "### Definition of the system\n",
    "list of variables/parameters:\n",
    "- $E=\\dfrac{customers}{area} $\n",
    "\n",
    "- $\\nu=\\dfrac{requests}{customers\\cdot time}$"
   ]
  }
 ],
 "metadata": {
  "kernelspec": {
   "display_name": "Julia 1.5.3",
   "language": "julia",
   "name": "julia-1.5"
  },
  "language_info": {
   "file_extension": ".jl",
   "mimetype": "application/julia",
   "name": "julia",
   "version": "1.5.3"
  }
 },
 "nbformat": 4,
 "nbformat_minor": 4
}
